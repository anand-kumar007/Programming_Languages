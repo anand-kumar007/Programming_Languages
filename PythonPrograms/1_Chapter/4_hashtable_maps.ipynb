{
 "metadata": {
  "language_info": {
   "codemirror_mode": {
    "name": "ipython",
    "version": 3
   },
   "file_extension": ".py",
   "mimetype": "text/x-python",
   "name": "python",
   "nbconvert_exporter": "python",
   "pygments_lexer": "ipython3",
   "version": "3.9.4"
  },
  "orig_nbformat": 2,
  "kernelspec": {
   "name": "python3",
   "display_name": "Python 3.9.4 64-bit"
  },
  "metadata": {
   "interpreter": {
    "hash": "ea51e475891ca790c54a725496b7fac20a92b46aeab64ead1c1373b2d821abcb"
   }
  },
  "interpreter": {
   "hash": "ea51e475891ca790c54a725496b7fac20a92b46aeab64ead1c1373b2d821abcb"
  }
 },
 "nbformat": 4,
 "nbformat_minor": 2,
 "cells": [
  {
   "source": [
    "### hashtables and hashmaps"
   ],
   "cell_type": "markdown",
   "metadata": {}
  },
  {
   "source": [
    "#### what is hashtable and hashmaps in python  \n",
    "1. creating dictionaries\n",
    "2. Nested dictionaries\n",
    "3. Performing operations on hashtables\n",
    "\n",
    "    a. accessing items\n",
    "    b.updating values\n",
    "    c. deleting entries\n",
    " \n",
    " 4. Converting dictionaries into Dataframes "
   ],
   "cell_type": "markdown",
   "metadata": {}
  },
  {
   "source": [
    "### hashtable or hashmap "
   ],
   "cell_type": "markdown",
   "metadata": {}
  },
  {
   "source": [
    "it's a type of datastructure that maps keys to its value pairs"
   ],
   "cell_type": "markdown",
   "metadata": {}
  },
  {
   "source": [
    "key1 ---> hashfunction ---> index value\n",
    "\n",
    "key2 ---> hashfunction ---> index value and so on"
   ],
   "cell_type": "markdown",
   "metadata": {}
  },
  {
   "source": [
    "in python hashtables are implemented using built in dictionary data type in python"
   ],
   "cell_type": "markdown",
   "metadata": {}
  },
  {
   "source": [
    "creating the dictionaries \n",
    "1.using the {} braces\n",
    "\n",
    "2. using the dict() function"
   ],
   "cell_type": "markdown",
   "metadata": {}
  },
  {
   "cell_type": "code",
   "execution_count": 1,
   "metadata": {},
   "outputs": [
    {
     "output_type": "stream",
     "name": "stdout",
     "text": [
      "{'dave': 101, 'ava': 102, 'siya': 103}\n"
     ]
    },
    {
     "output_type": "execute_result",
     "data": {
      "text/plain": [
       "dict"
      ]
     },
     "metadata": {},
     "execution_count": 1
    }
   ],
   "source": [
    "mydict = {'dave':101,'ava':102,'siya':103}\n",
    "print(mydict)\n",
    "type(mydict)"
   ]
  },
  {
   "cell_type": "code",
   "execution_count": 2,
   "metadata": {},
   "outputs": [
    {
     "output_type": "stream",
     "name": "stdout",
     "text": [
      "{}\n"
     ]
    }
   ],
   "source": [
    "mydict2 = dict()\n",
    "type(mydict2)\n",
    "print(mydict2)"
   ]
  },
  {
   "cell_type": "code",
   "execution_count": 3,
   "metadata": {},
   "outputs": [
    {
     "output_type": "execute_result",
     "data": {
      "text/plain": [
       "{'ash': 101, 'kaykay': 102, 'keech': 103}"
      ]
     },
     "metadata": {},
     "execution_count": 3
    }
   ],
   "source": [
    "mydict2 = dict(ash=101,kaykay=102,keech=103)\n",
    "mydict2"
   ]
  },
  {
   "source": [
    "### nested dictionaries are dict contained within another dictionaries"
   ],
   "cell_type": "markdown",
   "metadata": {}
  },
  {
   "cell_type": "code",
   "execution_count": 4,
   "metadata": {},
   "outputs": [
    {
     "output_type": "stream",
     "name": "stdout",
     "text": [
      "{'Employee': {'Derek': {'ID': 101, 'Salary': 2000, 'positon': 'team leader'}, 'Ava': {'ID': 102, 'Salary': 3000, 'position': 'boss'}}}\n"
     ]
    }
   ],
   "source": [
    "emp_details = {'Employee':{'Derek':{'ID':101,'Salary':2000,'positon':'team leader'},\n",
    "                            'Ava': {'ID':102,'Salary':3000,'position':'boss'}}}\n",
    "print(emp_details)                            "
   ]
  },
  {
   "source": [
    "#### performing operations on hashtables"
   ],
   "cell_type": "markdown",
   "metadata": {}
  },
  {
   "source": [
    "#### 1. accessing items"
   ],
   "cell_type": "markdown",
   "metadata": {}
  },
  {
   "cell_type": "code",
   "execution_count": 5,
   "metadata": {},
   "outputs": [],
   "source": [
    "# using key value pair, using functions or using the for loops"
   ]
  },
  {
   "cell_type": "code",
   "execution_count": 6,
   "metadata": {},
   "outputs": [
    {
     "output_type": "execute_result",
     "data": {
      "text/plain": [
       "{'dave': 101, 'ava': 102, 'siya': 103}"
      ]
     },
     "metadata": {},
     "execution_count": 6
    }
   ],
   "source": [
    "mydict\n"
   ]
  },
  {
   "cell_type": "code",
   "execution_count": 7,
   "metadata": {},
   "outputs": [
    {
     "output_type": "execute_result",
     "data": {
      "text/plain": [
       "{'ash': 101, 'kaykay': 102, 'keech': 103}"
      ]
     },
     "metadata": {},
     "execution_count": 7
    }
   ],
   "source": [
    "mydict2"
   ]
  },
  {
   "cell_type": "code",
   "execution_count": 8,
   "metadata": {},
   "outputs": [
    {
     "output_type": "execute_result",
     "data": {
      "text/plain": [
       "{'Employee': {'Derek': {'ID': 101, 'Salary': 2000, 'positon': 'team leader'},\n",
       "  'Ava': {'ID': 102, 'Salary': 3000, 'position': 'boss'}}}"
      ]
     },
     "metadata": {},
     "execution_count": 8
    }
   ],
   "source": [
    "emp_details"
   ]
  },
  {
   "cell_type": "code",
   "execution_count": 9,
   "metadata": {},
   "outputs": [
    {
     "output_type": "execute_result",
     "data": {
      "text/plain": [
       "101"
      ]
     },
     "metadata": {},
     "execution_count": 9
    }
   ],
   "source": [
    "mydict['dave']"
   ]
  },
  {
   "cell_type": "code",
   "execution_count": 10,
   "metadata": {},
   "outputs": [],
   "source": [
    "# python gives lot many functions to access key value pairs present in dictionaries\n",
    "# keys functions\n",
    "# values functions\n",
    "# get functions"
   ]
  },
  {
   "cell_type": "code",
   "execution_count": 11,
   "metadata": {},
   "outputs": [
    {
     "output_type": "execute_result",
     "data": {
      "text/plain": [
       "dict_keys(['dave', 'ava', 'siya'])"
      ]
     },
     "metadata": {},
     "execution_count": 11
    }
   ],
   "source": [
    "mydict.keys()"
   ]
  },
  {
   "cell_type": "code",
   "execution_count": 12,
   "metadata": {},
   "outputs": [
    {
     "output_type": "execute_result",
     "data": {
      "text/plain": [
       "dict_values([101, 102, 103])"
      ]
     },
     "metadata": {},
     "execution_count": 12
    }
   ],
   "source": [
    "mydict.values()"
   ]
  },
  {
   "cell_type": "code",
   "execution_count": 13,
   "metadata": {},
   "outputs": [
    {
     "output_type": "execute_result",
     "data": {
      "text/plain": [
       "102"
      ]
     },
     "metadata": {},
     "execution_count": 13
    }
   ],
   "source": [
    "mydict.get('ava')       #just like accesing through keys"
   ]
  },
  {
   "cell_type": "code",
   "execution_count": 14,
   "metadata": {},
   "outputs": [
    {
     "output_type": "stream",
     "name": "stdout",
     "text": [
      "dave\nava\nsiya\n"
     ]
    }
   ],
   "source": [
    "for x in mydict:               #will give all the keys in the mydict\n",
    "    print(x)"
   ]
  },
  {
   "cell_type": "code",
   "execution_count": 15,
   "metadata": {},
   "outputs": [
    {
     "output_type": "stream",
     "name": "stdout",
     "text": [
      "101\n102\n103\n"
     ]
    }
   ],
   "source": [
    "for x in mydict.values():\n",
    "    print(x)"
   ]
  },
  {
   "cell_type": "code",
   "execution_count": 16,
   "metadata": {},
   "outputs": [
    {
     "output_type": "stream",
     "name": "stdout",
     "text": [
      "dave 101\nava 102\nsiya 103\n"
     ]
    }
   ],
   "source": [
    "# items function retrieves all the key value pairs in the dict\n",
    "for x,y in mydict.items():\n",
    "    print(x,y)"
   ]
  },
  {
   "source": [
    "#### updating values"
   ],
   "cell_type": "markdown",
   "metadata": {}
  },
  {
   "cell_type": "code",
   "execution_count": 17,
   "metadata": {},
   "outputs": [],
   "source": [
    "# dict are mutable datatypes and hence can be changed\n",
    "# like adding new key value pair or modiying the values of key "
   ]
  },
  {
   "cell_type": "code",
   "execution_count": 18,
   "metadata": {},
   "outputs": [
    {
     "output_type": "execute_result",
     "data": {
      "text/plain": [
       "{'dave': 101, 'ava': 102, 'siya': 103}"
      ]
     },
     "metadata": {},
     "execution_count": 18
    }
   ],
   "source": [
    "mydict"
   ]
  },
  {
   "cell_type": "code",
   "execution_count": 19,
   "metadata": {},
   "outputs": [],
   "source": [
    "mydict['dave']=100 #look it is case sensitive"
   ]
  },
  {
   "cell_type": "code",
   "execution_count": 20,
   "metadata": {},
   "outputs": [
    {
     "output_type": "execute_result",
     "data": {
      "text/plain": [
       "{'dave': 100, 'ava': 102, 'siya': 103}"
      ]
     },
     "metadata": {},
     "execution_count": 20
    }
   ],
   "source": [
    "mydict"
   ]
  },
  {
   "cell_type": "code",
   "execution_count": 21,
   "metadata": {},
   "outputs": [],
   "source": [
    "mydict['dave']=99"
   ]
  },
  {
   "cell_type": "code",
   "execution_count": 22,
   "metadata": {},
   "outputs": [
    {
     "output_type": "execute_result",
     "data": {
      "text/plain": [
       "{'dave': 99, 'ava': 102, 'siya': 103}"
      ]
     },
     "metadata": {},
     "execution_count": 22
    }
   ],
   "source": [
    "mydict"
   ]
  },
  {
   "cell_type": "code",
   "execution_count": 23,
   "metadata": {},
   "outputs": [],
   "source": [
    "mydict['chris']=104"
   ]
  },
  {
   "cell_type": "code",
   "execution_count": 24,
   "metadata": {},
   "outputs": [
    {
     "output_type": "execute_result",
     "data": {
      "text/plain": [
       "{'dave': 99, 'ava': 102, 'siya': 103, 'chris': 104}"
      ]
     },
     "metadata": {},
     "execution_count": 24
    }
   ],
   "source": [
    "mydict"
   ]
  },
  {
   "source": [
    "#### deleting items from a dict"
   ],
   "cell_type": "markdown",
   "metadata": {}
  },
  {
   "cell_type": "code",
   "execution_count": 25,
   "metadata": {},
   "outputs": [],
   "source": [
    "# there are many functions which allows you to delete items from the dict\n",
    "# del, pop, popitem,clear etcetra. "
   ]
  },
  {
   "cell_type": "code",
   "execution_count": 26,
   "metadata": {},
   "outputs": [
    {
     "output_type": "execute_result",
     "data": {
      "text/plain": [
       "{'dave': 99, 'ava': 102, 'siya': 103, 'chris': 104}"
      ]
     },
     "metadata": {},
     "execution_count": 26
    }
   ],
   "source": [
    "mydict\n"
   ]
  },
  {
   "cell_type": "code",
   "execution_count": 27,
   "metadata": {},
   "outputs": [
    {
     "output_type": "execute_result",
     "data": {
      "text/plain": [
       "102"
      ]
     },
     "metadata": {},
     "execution_count": 27
    }
   ],
   "source": [
    "mydict.pop('ava')"
   ]
  },
  {
   "cell_type": "code",
   "execution_count": 28,
   "metadata": {},
   "outputs": [
    {
     "output_type": "execute_result",
     "data": {
      "text/plain": [
       "{'dave': 99, 'siya': 103, 'chris': 104}"
      ]
     },
     "metadata": {},
     "execution_count": 28
    }
   ],
   "source": [
    "mydict"
   ]
  },
  {
   "cell_type": "code",
   "execution_count": 29,
   "metadata": {},
   "outputs": [
    {
     "output_type": "execute_result",
     "data": {
      "text/plain": [
       "('chris', 104)"
      ]
     },
     "metadata": {},
     "execution_count": 29
    }
   ],
   "source": [
    "# popitem will remove the last inserted element from the dict\n",
    "mydict.popitem()"
   ]
  },
  {
   "cell_type": "code",
   "execution_count": 30,
   "metadata": {},
   "outputs": [
    {
     "output_type": "execute_result",
     "data": {
      "text/plain": [
       "{'dave': 99, 'siya': 103}"
      ]
     },
     "metadata": {},
     "execution_count": 30
    }
   ],
   "source": [
    "mydict"
   ]
  },
  {
   "cell_type": "code",
   "execution_count": 31,
   "metadata": {},
   "outputs": [],
   "source": [
    "del mydict['siya']  # del then specify the key whose value you want to delete"
   ]
  },
  {
   "cell_type": "code",
   "execution_count": 32,
   "metadata": {},
   "outputs": [
    {
     "output_type": "execute_result",
     "data": {
      "text/plain": [
       "{'dave': 99}"
      ]
     },
     "metadata": {},
     "execution_count": 32
    }
   ],
   "source": [
    "mydict"
   ]
  },
  {
   "source": [
    "#### converting dict to pandas dataframes"
   ],
   "cell_type": "markdown",
   "metadata": {}
  },
  {
   "source": [
    "Dataframes is a 2-D data structure which contains columns of various types "
   ],
   "cell_type": "markdown",
   "metadata": {}
  },
  {
   "source": [
    "it is similar to python dict and we can convert dict to dataframes\n"
   ],
   "cell_type": "markdown",
   "metadata": {}
  },
  {
   "cell_type": "code",
   "execution_count": 33,
   "metadata": {},
   "outputs": [
    {
     "output_type": "execute_result",
     "data": {
      "text/plain": [
       "{'Employee': {'Derek': {'ID': 101, 'Salary': 2000, 'positon': 'team leader'},\n",
       "  'Ava': {'ID': 102, 'Salary': 3000, 'position': 'boss'}}}"
      ]
     },
     "metadata": {},
     "execution_count": 33
    }
   ],
   "source": [
    "emp_details"
   ]
  },
  {
   "cell_type": "code",
   "execution_count": 34,
   "metadata": {},
   "outputs": [
    {
     "output_type": "execute_result",
     "data": {
      "text/plain": [
       "{'Derek': {'ID': 101, 'Salary': 2000, 'positon': 'team leader'},\n",
       " 'Ava': {'ID': 102, 'Salary': 3000, 'position': 'boss'}}"
      ]
     },
     "metadata": {},
     "execution_count": 34
    }
   ],
   "source": [
    "emp_details['Employee']"
   ]
  },
  {
   "cell_type": "code",
   "execution_count": 35,
   "metadata": {},
   "outputs": [
    {
     "output_type": "execute_result",
     "data": {
      "text/plain": [
       "{'ID': 101, 'Salary': 2000, 'positon': 'team leader'}"
      ]
     },
     "metadata": {},
     "execution_count": 35
    }
   ],
   "source": [
    "emp_details['Employee']['Derek']"
   ]
  },
  {
   "cell_type": "code",
   "execution_count": 36,
   "metadata": {},
   "outputs": [
    {
     "output_type": "execute_result",
     "data": {
      "text/plain": [
       "'team leader'"
      ]
     },
     "metadata": {},
     "execution_count": 36
    }
   ],
   "source": [
    "emp_details['Employee']['Derek'].pop('positon')"
   ]
  },
  {
   "cell_type": "code",
   "execution_count": 37,
   "metadata": {},
   "outputs": [
    {
     "output_type": "execute_result",
     "data": {
      "text/plain": [
       "{'ID': 101, 'Salary': 2000}"
      ]
     },
     "metadata": {},
     "execution_count": 37
    }
   ],
   "source": [
    "emp_details['Employee']['Derek']"
   ]
  },
  {
   "cell_type": "code",
   "execution_count": 38,
   "metadata": {},
   "outputs": [
    {
     "output_type": "execute_result",
     "data": {
      "text/plain": [
       "{'Derek': {'ID': 101, 'Salary': 2000},\n",
       " 'Ava': {'ID': 102, 'Salary': 3000, 'position': 'boss'}}"
      ]
     },
     "metadata": {},
     "execution_count": 38
    }
   ],
   "source": [
    "emp_details['Employee']"
   ]
  },
  {
   "cell_type": "code",
   "execution_count": 39,
   "metadata": {},
   "outputs": [
    {
     "output_type": "stream",
     "name": "stdout",
     "text": [
      "           Derek   Ava\nID         101.0   102\nSalary    2000.0  3000\nposition     NaN  boss\n"
     ]
    }
   ],
   "source": [
    "import pandas as pd\n",
    "df = pd.DataFrame(emp_details['Employee'])\n",
    "print(df)"
   ]
  },
  {
   "cell_type": "code",
   "execution_count": null,
   "metadata": {},
   "outputs": [],
   "source": []
  }
 ]
}