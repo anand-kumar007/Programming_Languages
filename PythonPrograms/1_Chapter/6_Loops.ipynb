{
 "metadata": {
  "language_info": {
   "codemirror_mode": {
    "name": "ipython",
    "version": 3
   },
   "file_extension": ".py",
   "mimetype": "text/x-python",
   "name": "python",
   "nbconvert_exporter": "python",
   "pygments_lexer": "ipython3",
   "version": "3.9.4"
  },
  "orig_nbformat": 2,
  "kernelspec": {
   "name": "python394jvsc74a57bd0ea51e475891ca790c54a725496b7fac20a92b46aeab64ead1c1373b2d821abcb",
   "display_name": "Python 3.9.4 64-bit"
  },
  "metadata": {
   "interpreter": {
    "hash": "ea51e475891ca790c54a725496b7fac20a92b46aeab64ead1c1373b2d821abcb"
   }
  }
 },
 "nbformat": 4,
 "nbformat_minor": 2,
 "cells": [
  {
   "source": [
    "Ptyhon supports three kinds of loops\n",
    "\n",
    "1. for loop\n",
    "2. while loop\n",
    "3. nested loop"
   ],
   "cell_type": "markdown",
   "metadata": {}
  },
  {
   "source": [
    "for loop is used when number of iteration are known\n",
    "\n",
    "while loop is used when number of iterations are not known but we check for a particular condition"
   ],
   "cell_type": "markdown",
   "metadata": {}
  },
  {
   "cell_type": "code",
   "execution_count": 1,
   "metadata": {},
   "outputs": [
    {
     "output_type": "stream",
     "name": "stdout",
     "text": [
      "number :  0\nnumber :  1\nnumber :  2\nnumber :  3\nnumber :  4\nnumber :  5\nnumber :  6\nnumber :  7\nnumber :  8\nnumber :  9\nthanks\n"
     ]
    }
   ],
   "source": [
    "count =0 \n",
    "while count<10:\n",
    "    print(\"number : \",count)\n",
    "    count +=1\n",
    "print(\"thanks\")    "
   ]
  },
  {
   "source": [
    "# guessing game guess the number btwn 10-20 \n",
    "if userEnter < correct --> too small\n",
    "if userEnter > correct --> too big\n",
    "or if userEnter == correct --> congratulations Exit"
   ],
   "cell_type": "markdown",
   "metadata": {}
  },
  {
   "source": [
    "here we don't know how many iterations are required so while loop is good to go with"
   ],
   "cell_type": "markdown",
   "metadata": {}
  },
  {
   "cell_type": "code",
   "execution_count": 2,
   "metadata": {},
   "outputs": [
    {
     "output_type": "stream",
     "name": "stdout",
     "text": [
      "Sorry that you're giving up!\n"
     ]
    }
   ],
   "source": [
    "import random\n",
    "n = 20\n",
    "correct = int(n * random.random()) + 1\n",
    "guess = 0\n",
    "while guess != correct:\n",
    "    guess = int(input(\"guess the number : \"))\n",
    "    if guess > 0:\n",
    "        if guess > correct:\n",
    "            print(\"too large number\")\n",
    "        elif guess < correct  :\n",
    "            print(\"too small number\")\n",
    "        else :\n",
    "            print(\"Sorry that you're giving up!\")\n",
    "            break;\n",
    "    else:\n",
    "        print(\"congratulations ! you made it !!\")\n",
    "\n",
    "\n"
   ]
  },
  {
   "source": [
    "### for loop"
   ],
   "cell_type": "markdown",
   "metadata": {}
  },
  {
   "source": [
    "when number of iterations are needed.\n",
    "\n",
    "for \"variable\" in \"range\":\n",
    "    \n",
    "    stmt1\n",
    "\n",
    "    stmt2\n",
    "    \n",
    "    .....\n",
    "    \n",
    "    stmtn"
   ],
   "cell_type": "markdown",
   "metadata": {}
  },
  {
   "source": [
    "boolean condition,\n",
    "the initial value of counting variable,\n",
    "incrementing the counter variable"
   ],
   "cell_type": "markdown",
   "metadata": {}
  },
  {
   "cell_type": "code",
   "execution_count": 3,
   "metadata": {},
   "outputs": [
    {
     "output_type": "stream",
     "name": "stdout",
     "text": [
      "current fruit :  mango\ncurrent fruit :  apple\ncurrent fruit :  orange\ncurrent fruit :  kiwi\n"
     ]
    }
   ],
   "source": [
    "fruit = ['mango','apple','orange','kiwi']\n",
    "for x in fruit:\n",
    "    print(\"current fruit : \",x)"
   ]
  },
  {
   "source": [
    "### factorial of Number"
   ],
   "cell_type": "markdown",
   "metadata": {}
  },
  {
   "source": [
    "in factorial number of iterations are known to us and hence for loop is a good choice over the while loop."
   ],
   "cell_type": "markdown",
   "metadata": {}
  },
  {
   "cell_type": "code",
   "execution_count": 9,
   "metadata": {},
   "outputs": [
    {
     "output_type": "stream",
     "name": "stdout",
     "text": [
      "factorial of  7  is :  5040\n"
     ]
    }
   ],
   "source": [
    "number = int(input('Number:')) \n",
    "fact = 1\n",
    "#range would be 1 to num+1 but not include num+1\n",
    "# i would be 1 initially and then increment by 1 each time.\n",
    "if number<0 : \n",
    "    print(\"must be positive\")\n",
    "elif number ==0 :\n",
    "    print(\"factorial is : 1\")\n",
    "else :\n",
    "    for i in range(1,number+1):\n",
    "        fact = fact * i\n",
    "    \n",
    "\n",
    "print(\"factorial of \", number ,\" is : \",fact)    \n"
   ]
  },
  {
   "source": [
    "#### Nested loops means loop inside another loop"
   ],
   "cell_type": "markdown",
   "metadata": {}
  }
 ]
}