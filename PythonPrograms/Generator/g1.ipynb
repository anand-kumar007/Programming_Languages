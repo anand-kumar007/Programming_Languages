{
 "metadata": {
  "language_info": {
   "codemirror_mode": {
    "name": "ipython",
    "version": 3
   },
   "file_extension": ".py",
   "mimetype": "text/x-python",
   "name": "python",
   "nbconvert_exporter": "python",
   "pygments_lexer": "ipython3",
   "version": "3.9.4"
  },
  "orig_nbformat": 2,
  "kernelspec": {
   "name": "python394jvsc74a57bd0ea51e475891ca790c54a725496b7fac20a92b46aeab64ead1c1373b2d821abcb",
   "display_name": "Python 3.9.4 64-bit"
  },
  "metadata": {
   "interpreter": {
    "hash": "ea51e475891ca790c54a725496b7fac20a92b46aeab64ead1c1373b2d821abcb"
   }
  }
 },
 "nbformat": 4,
 "nbformat_minor": 2,
 "cells": [
  {
   "source": [
    "Generators are functions that returns traversable objects\n",
    "\n",
    "produces items one at a time and when required\n",
    "\n",
    "are run along with for loop"
   ],
   "cell_type": "markdown",
   "metadata": {}
  },
  {
   "source": [
    "better memory management and utilization than normal python functions\n",
    "\n",
    "can be used to produce infinite items\n",
    "\n",
    "can also be used to pipeline a number of operations"
   ],
   "cell_type": "markdown",
   "metadata": {}
  },
  {
   "source": [
    "### Normal Functions Vs Genretators"
   ],
   "cell_type": "markdown",
   "metadata": {}
  },
  {
   "source": [
    "Generators functions       |       Normal function\n",
    "\n",
    "uses of 'yield'keyword     |  uses 'return' keyword    \n",
    "\n",
    "next() for calling          | functionName() for calling\n",
    "\n",
    "one item at a time and      | all items at the same time \n",
    "only when required."
   ],
   "cell_type": "markdown",
   "metadata": {}
  },
  {
   "cell_type": "code",
   "execution_count": 8,
   "metadata": {},
   "outputs": [
    {
     "output_type": "stream",
     "name": "stdout",
     "text": [
      "<generator object new at 0x000001A6AA072A50>\n"
     ]
    },
    {
     "output_type": "execute_result",
     "data": {
      "text/plain": [
       "('name', 'sam')"
      ]
     },
     "metadata": {},
     "execution_count": 8
    }
   ],
   "source": [
    "def new(d1):\n",
    "    for x,y in d1.items():\n",
    "        yield x,y \n",
    "\n",
    "a = dict(name=\"sam\",age=\"20\",year=\"3rd\")\n",
    "#make an object of generator function\n",
    "\n",
    "b = new(a)\n",
    "\n",
    "print(b)\n",
    "\n",
    "next(b)\n"
   ]
  },
  {
   "cell_type": "code",
   "execution_count": 9,
   "metadata": {},
   "outputs": [
    {
     "output_type": "execute_result",
     "data": {
      "text/plain": [
       "('age', '20')"
      ]
     },
     "metadata": {},
     "execution_count": 9
    }
   ],
   "source": [
    "next(b)"
   ]
  },
  {
   "cell_type": "code",
   "execution_count": 11,
   "metadata": {},
   "outputs": [
    {
     "output_type": "execute_result",
     "data": {
      "text/plain": [
       "2"
      ]
     },
     "metadata": {},
     "execution_count": 11
    }
   ],
   "source": [
    "def fun1(i):\n",
    "    while i<=3:\n",
    "        yield i\n",
    "        i= i+1\n",
    "j = fun1(2)\n",
    "next(j)        "
   ]
  },
  {
   "cell_type": "code",
   "execution_count": 13,
   "metadata": {},
   "outputs": [
    {
     "output_type": "execute_result",
     "data": {
      "text/plain": [
       "3"
      ]
     },
     "metadata": {},
     "execution_count": 13
    }
   ],
   "source": [
    "next(j)"
   ]
  },
  {
   "cell_type": "code",
   "execution_count": 14,
   "metadata": {},
   "outputs": [
    {
     "output_type": "error",
     "ename": "StopIteration",
     "evalue": "",
     "traceback": [
      "\u001b[1;31m---------------------------------------------------------------------------\u001b[0m",
      "\u001b[1;31mStopIteration\u001b[0m                             Traceback (most recent call last)",
      "\u001b[1;32m<ipython-input-14-36a6314a8ca5>\u001b[0m in \u001b[0;36m<module>\u001b[1;34m\u001b[0m\n\u001b[1;32m----> 1\u001b[1;33m \u001b[0mnext\u001b[0m\u001b[1;33m(\u001b[0m\u001b[0mj\u001b[0m\u001b[1;33m)\u001b[0m\u001b[1;33m\u001b[0m\u001b[1;33m\u001b[0m\u001b[0m\n\u001b[0m",
      "\u001b[1;31mStopIteration\u001b[0m: "
     ]
    }
   ],
   "source": [
    "next(j)   #it was like give one time arg and use until that is finished. "
   ]
  },
  {
   "cell_type": "code",
   "execution_count": 15,
   "metadata": {},
   "outputs": [
    {
     "output_type": "execute_result",
     "data": {
      "text/plain": [
       "3"
      ]
     },
     "metadata": {},
     "execution_count": 15
    }
   ],
   "source": [
    "def ex():\n",
    "    n=3\n",
    "    yield n\n",
    "    n = n*n\n",
    "    yield n\n",
    "\n",
    "v = ex()\n",
    "next(v)"
   ]
  },
  {
   "cell_type": "code",
   "execution_count": 16,
   "metadata": {},
   "outputs": [
    {
     "output_type": "execute_result",
     "data": {
      "text/plain": [
       "9"
      ]
     },
     "metadata": {},
     "execution_count": 16
    }
   ],
   "source": [
    "next(v)"
   ]
  },
  {
   "cell_type": "code",
   "execution_count": 17,
   "metadata": {},
   "outputs": [
    {
     "output_type": "error",
     "ename": "StopIteration",
     "evalue": "",
     "traceback": [
      "\u001b[1;31m---------------------------------------------------------------------------\u001b[0m",
      "\u001b[1;31mStopIteration\u001b[0m                             Traceback (most recent call last)",
      "\u001b[1;32m<ipython-input-17-3c76cce91add>\u001b[0m in \u001b[0;36m<module>\u001b[1;34m\u001b[0m\n\u001b[1;32m----> 1\u001b[1;33m \u001b[0mnext\u001b[0m\u001b[1;33m(\u001b[0m\u001b[0mv\u001b[0m\u001b[1;33m)\u001b[0m\u001b[1;33m\u001b[0m\u001b[1;33m\u001b[0m\u001b[0m\n\u001b[0m",
      "\u001b[1;31mStopIteration\u001b[0m: "
     ]
    }
   ],
   "source": [
    "next(v)"
   ]
  },
  {
   "cell_type": "code",
   "execution_count": 18,
   "metadata": {},
   "outputs": [],
   "source": [
    "# To execute the generator function at once, for loop is used,\n",
    "\n",
    "#this loop iterate over all the objects and after all implementations. it executes stopiterations"
   ]
  },
  {
   "source": [
    "### Generatos within loops"
   ],
   "cell_type": "markdown",
   "metadata": {}
  },
  {
   "cell_type": "code",
   "execution_count": 21,
   "metadata": {},
   "outputs": [
    {
     "output_type": "stream",
     "name": "stdout",
     "text": [
      "3\n9\n"
     ]
    }
   ],
   "source": [
    "def ex():\n",
    "    n=3\n",
    "    yield n\n",
    "    n = n*n\n",
    "    yield n\n",
    "\n",
    "v = ex()\n",
    "for x in v:\n",
    "     print(x)   "
   ]
  },
  {
   "cell_type": "code",
   "execution_count": 22,
   "metadata": {},
   "outputs": [],
   "source": [
    "# Normally, generator functions are implemented with a loop having a suitable terminating condition.\n",
    "\n",
    "# Let's take an example of a generator that reverses a string."
   ]
  },
  {
   "cell_type": "code",
   "execution_count": 23,
   "metadata": {},
   "outputs": [
    {
     "output_type": "stream",
     "name": "stdout",
     "text": [
      "o\nl\nl\ne\nh\n"
     ]
    }
   ],
   "source": [
    "def rev_str(my_str):\n",
    "    length = len(my_str)\n",
    "    for i in range(length - 1, -1, -1):\n",
    "        yield my_str[i]\n",
    "\n",
    "\n",
    "# For loop to reverse the string\n",
    "for char in rev_str(\"hello\"):\n",
    "    print(char)"
   ]
  },
  {
   "cell_type": "code",
   "execution_count": 24,
   "metadata": {},
   "outputs": [],
   "source": [
    "# Simple generators can be easily created on the fly using generator expressions. It makes building generators easy.\n",
    "\n",
    "# Similar to the lambda functions which create anonymous functions, generator expressions create anonymous generator functions."
   ]
  },
  {
   "source": [
    "### generator Expression "
   ],
   "cell_type": "markdown",
   "metadata": {}
  },
  {
   "cell_type": "code",
   "execution_count": 25,
   "metadata": {},
   "outputs": [],
   "source": [
    "# The syntax for generator expression is similar to that of a list comprehension in Python. But the square brackets are replaced with round parentheses.\n",
    "\n",
    "# The major difference between a list comprehension and a generator expression is that a list comprehension produces the entire list while the generator expression produces one item at a time."
   ]
  },
  {
   "cell_type": "code",
   "execution_count": 26,
   "metadata": {},
   "outputs": [],
   "source": [
    "# a generator expression is much more memory efficient than an equivalent list comprehension."
   ]
  },
  {
   "source": [
    "### List comprehension - Elegant way to create List"
   ],
   "cell_type": "markdown",
   "metadata": {}
  },
  {
   "cell_type": "code",
   "execution_count": 28,
   "metadata": {},
   "outputs": [],
   "source": [
    "# List comprehension is an elegant and concise way to create a new list from an existing list in Python."
   ]
  },
  {
   "cell_type": "code",
   "execution_count": 29,
   "metadata": {},
   "outputs": [],
   "source": [
    "# A list comprehension consists of an expression followed by for statement inside square brackets."
   ]
  },
  {
   "cell_type": "code",
   "execution_count": 30,
   "metadata": {},
   "outputs": [
    {
     "output_type": "stream",
     "name": "stdout",
     "text": [
      "[1, 2, 4, 8, 16, 32, 64, 128, 256, 512]\n"
     ]
    }
   ],
   "source": [
    "# Here is an example to make a list with each item being increasing power of 2.\n",
    "pow2 = [2 ** x for x in range(10)]\n",
    "print(pow2)"
   ]
  },
  {
   "cell_type": "code",
   "execution_count": 31,
   "metadata": {},
   "outputs": [],
   "source": [
    "# above code is equivalent to \n",
    "pow2 = []\n",
    "for x in range(10):\n",
    "   pow2.append(2 ** x)"
   ]
  },
  {
   "cell_type": "code",
   "execution_count": 32,
   "metadata": {},
   "outputs": [
    {
     "output_type": "stream",
     "name": "stdout",
     "text": [
      "[1, 2, 4, 8, 16, 32, 64, 128, 256, 512]\n"
     ]
    }
   ],
   "source": [
    "print(pow2)"
   ]
  },
  {
   "cell_type": "code",
   "execution_count": 33,
   "metadata": {},
   "outputs": [],
   "source": [
    "### back to generator expressions"
   ]
  },
  {
   "cell_type": "code",
   "execution_count": 34,
   "metadata": {},
   "outputs": [
    {
     "output_type": "stream",
     "name": "stdout",
     "text": [
      "[1, 9, 36, 100]\n<generator object <genexpr> at 0x000001A6A9FEECF0>\n"
     ]
    }
   ],
   "source": [
    "my_list = [1, 3, 6, 10]\n",
    "\n",
    "# square each term using list comprehension\n",
    "list_ = [x**2 for x in my_list]\n",
    "\n",
    "# same thing can be done using a generator expression\n",
    "\n",
    "# generator expressions are surrounded by parenthesis ()\n",
    "generator = (x**2 for x in my_list)\n",
    "\n",
    "print(list_)\n",
    "print(generator)"
   ]
  },
  {
   "cell_type": "code",
   "execution_count": 37,
   "metadata": {},
   "outputs": [
    {
     "output_type": "stream",
     "name": "stdout",
     "text": [
      "1\n9\n36\n100\n"
     ]
    }
   ],
   "source": [
    "for x in generator:\n",
    "    print(x)"
   ]
  },
  {
   "cell_type": "code",
   "execution_count": 39,
   "metadata": {},
   "outputs": [
    {
     "output_type": "stream",
     "name": "stdout",
     "text": [
      "1\n9\n36\n100\n"
     ]
    }
   ],
   "source": [
    "# Initialize the list\n",
    "my_list = [1, 3, 6, 10]\n",
    "\n",
    "#generator expression \n",
    "a = (x**2 for x in my_list)\n",
    "print(next(a))\n",
    "\n",
    "print(next(a))\n",
    "\n",
    "print(next(a))\n",
    "\n",
    "print(next(a))\n",
    "\n"
   ]
  },
  {
   "cell_type": "code",
   "execution_count": 44,
   "metadata": {},
   "outputs": [
    {
     "output_type": "stream",
     "name": "stdout",
     "text": [
      "gen exp:<generator object <genexpr> at 0x000001A6AA333430>\n2\n"
     ]
    }
   ],
   "source": [
    "LL1 = range(6)\n",
    "print(\"gen exp\",end=\":\")\n",
    "f = (x+2 for x in LL1)\n",
    "\n",
    "print(f)\n",
    "print(min(f))  #just like lambda genretor func can be used within other functions as well"
   ]
  },
  {
   "source": [
    "### USE CASES"
   ],
   "cell_type": "markdown",
   "metadata": {}
  },
  {
   "source": [
    "1. Fibonacci series\n",
    "\n",
    "2. Number Stream\n",
    "\n",
    "3. SineWave"
   ],
   "cell_type": "markdown",
   "metadata": {}
  },
  {
   "cell_type": "code",
   "execution_count": 47,
   "metadata": {},
   "outputs": [],
   "source": [
    "# these three we'll be listing here."
   ]
  },
  {
   "cell_type": "code",
   "execution_count": 48,
   "metadata": {},
   "outputs": [],
   "source": [
    "# 1. fibonacci series is each number is sum of previous two numbers and first two numbers are 0 and 1\n",
    "\n",
    "#simple gen function is used "
   ]
  },
  {
   "cell_type": "code",
   "execution_count": 51,
   "metadata": {},
   "outputs": [
    {
     "output_type": "stream",
     "name": "stdout",
     "text": [
      "0 1 1 2 3 5 8 13 21 34 "
     ]
    }
   ],
   "source": [
    " def fibonacci():\n",
    "     #first and second variable as 0,1\n",
    "     f,s = 0,1\n",
    "     while True:\n",
    "         yield f\n",
    "         f,s = s,f+s\n",
    "    \n",
    "\n",
    "for x in fibonacci():\n",
    "    if(x>50):\n",
    "        break\n",
    "    print(x,end=\" \")         "
   ]
  },
  {
   "cell_type": "code",
   "execution_count": 52,
   "metadata": {},
   "outputs": [],
   "source": [
    "# 2. generating stream of numbers\n",
    "\n",
    "# simple just use the generator exp"
   ]
  },
  {
   "cell_type": "code",
   "execution_count": 56,
   "metadata": {},
   "outputs": [
    {
     "output_type": "stream",
     "name": "stdout",
     "text": [
      "<generator object <genexpr> at 0x000001A6A9895EB0>\n0\n2\n4\n6\n8\n10\n12\n"
     ]
    }
   ],
   "source": [
    "a = range(7)\n",
    "#genertor exp\n",
    "b = (x*2 for x in a)\n",
    "print(b)\n",
    "\n",
    "for y in b:\n",
    "    print(y)"
   ]
  },
  {
   "cell_type": "code",
   "execution_count": 58,
   "metadata": {},
   "outputs": [
    {
     "output_type": "stream",
     "name": "stdout",
     "text": [
      "<generator object <genexpr> at 0x000001A6AA325900>\n10\n15\n20\n25\n30\n35\n40\n45\n50\n55\n60\n65\n70\n75\n80\n85\n90\n95\n"
     ]
    }
   ],
   "source": [
    "a = range(10,100,5)\n",
    "#genertor exp\n",
    "b = (x for x in a)\n",
    "print(b)\n",
    "\n",
    "for y in b:\n",
    "    print(y)"
   ]
  },
  {
   "cell_type": "code",
   "execution_count": 59,
   "metadata": {},
   "outputs": [
    {
     "output_type": "stream",
     "name": "stdout",
     "text": [
      "<generator object <genexpr> at 0x000001A6AA325B30>\n1\n3\n5\n7\n9\n11\n13\n15\n17\n19\n21\n23\n25\n27\n29\n31\n33\n35\n37\n39\n41\n43\n45\n47\n49\n51\n53\n55\n57\n59\n61\n63\n65\n67\n69\n71\n73\n75\n77\n79\n81\n83\n85\n87\n89\n91\n93\n95\n97\n99\n"
     ]
    }
   ],
   "source": [
    "# stream of odd numbers\n",
    "a = range(1,100,2)\n",
    "#genertor exp\n",
    "b = (x for x in a)\n",
    "print(b)\n",
    "\n",
    "for y in b:\n",
    "    print(y)"
   ]
  },
  {
   "cell_type": "code",
   "execution_count": 60,
   "metadata": {},
   "outputs": [
    {
     "output_type": "stream",
     "name": "stdout",
     "text": [
      "<generator object <genexpr> at 0x000001A6AA325D60>\n2\n4\n6\n8\n10\n12\n14\n16\n18\n20\n22\n24\n26\n28\n30\n32\n34\n36\n38\n40\n42\n44\n46\n48\n50\n52\n54\n56\n58\n60\n62\n64\n66\n68\n70\n72\n74\n76\n78\n80\n82\n84\n86\n88\n90\n92\n94\n96\n98\n"
     ]
    }
   ],
   "source": [
    "#stream of even numbers\n",
    "a = range(2,100,2)\n",
    "#genertor exp\n",
    "b = (x for x in a)\n",
    "print(b)\n",
    "\n",
    "for y in b:\n",
    "    print(y)"
   ]
  },
  {
   "cell_type": "code",
   "execution_count": 61,
   "metadata": {},
   "outputs": [],
   "source": [
    "# generating sine wave using seaborn and genretor"
   ]
  },
  {
   "cell_type": "code",
   "execution_count": 62,
   "metadata": {},
   "outputs": [],
   "source": [
    "# using normal function all the waves would be produced at once \n"
   ]
  },
  {
   "cell_type": "code",
   "execution_count": 63,
   "metadata": {},
   "outputs": [],
   "source": [
    "# but with generator function we can produce one wave at a time"
   ]
  },
  {
   "source": [
    "#### using the normal function"
   ],
   "cell_type": "markdown",
   "metadata": {}
  },
  {
   "cell_type": "code",
   "execution_count": 69,
   "metadata": {},
   "outputs": [],
   "source": [
    "import matplotlib "
   ]
  }
 ]
}