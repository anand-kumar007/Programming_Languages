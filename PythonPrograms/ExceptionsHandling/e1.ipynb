{
 "metadata": {
  "language_info": {
   "codemirror_mode": {
    "name": "ipython",
    "version": 3
   },
   "file_extension": ".py",
   "mimetype": "text/x-python",
   "name": "python",
   "nbconvert_exporter": "python",
   "pygments_lexer": "ipython3",
   "version": "3.9.4"
  },
  "orig_nbformat": 2,
  "kernelspec": {
   "name": "python394jvsc74a57bd0ea51e475891ca790c54a725496b7fac20a92b46aeab64ead1c1373b2d821abcb",
   "display_name": "Python 3.9.4 64-bit"
  },
  "metadata": {
   "interpreter": {
    "hash": "ea51e475891ca790c54a725496b7fac20a92b46aeab64ead1c1373b2d821abcb"
   }
  }
 },
 "nbformat": 4,
 "nbformat_minor": 2,
 "cells": [
  {
   "cell_type": "code",
   "execution_count": 1,
   "metadata": {},
   "outputs": [],
   "source": [
    "# an event (occuring during execution of program) \n",
    "# that disrupt the  normal flow of the program's instructions\n",
    "# is called an Exception\n",
    "\n",
    "# process of responding to the occurance of an exception \n",
    "\n",
    "# Find Error    --> If you can't python will.\n",
    "#    |\n",
    "# Take Caution  --> \"Try\"    \n",
    "#    |\n",
    "# Fix Error     --> \"Catch\"\n",
    "\n",
    "# --------------------\n",
    "# try \n",
    "# except\n",
    "# else\n",
    "# finally\n",
    "#-----------\n",
    "\n"
   ]
  },
  {
   "cell_type": "code",
   "execution_count": 2,
   "metadata": {},
   "outputs": [
    {
     "output_type": "error",
     "ename": "Exception",
     "evalue": "x should be < 5. but here value of x is 10",
     "traceback": [
      "\u001b[1;31m---------------------------------------------------------------------------\u001b[0m",
      "\u001b[1;31mException\u001b[0m                                 Traceback (most recent call last)",
      "\u001b[1;32m<ipython-input-2-ff9d8a8141c0>\u001b[0m in \u001b[0;36m<module>\u001b[1;34m\u001b[0m\n\u001b[0;32m      2\u001b[0m \u001b[0mx\u001b[0m \u001b[1;33m=\u001b[0m \u001b[1;36m10\u001b[0m\u001b[1;33m\u001b[0m\u001b[1;33m\u001b[0m\u001b[0m\n\u001b[0;32m      3\u001b[0m \u001b[1;32mif\u001b[0m \u001b[0mx\u001b[0m \u001b[1;33m>\u001b[0m \u001b[1;36m5\u001b[0m\u001b[1;33m:\u001b[0m\u001b[1;33m\u001b[0m\u001b[1;33m\u001b[0m\u001b[0m\n\u001b[1;32m----> 4\u001b[1;33m     \u001b[1;32mraise\u001b[0m \u001b[0mException\u001b[0m\u001b[1;33m(\u001b[0m\u001b[1;34m\"x should be < 5. but here value of x is {}\"\u001b[0m\u001b[1;33m.\u001b[0m\u001b[0mformat\u001b[0m\u001b[1;33m(\u001b[0m\u001b[0mx\u001b[0m\u001b[1;33m)\u001b[0m\u001b[1;33m)\u001b[0m\u001b[1;33m\u001b[0m\u001b[1;33m\u001b[0m\u001b[0m\n\u001b[0m",
      "\u001b[1;31mException\u001b[0m: x should be < 5. but here value of x is 10"
     ]
    }
   ],
   "source": [
    "# Raising an Exception \n",
    "x = 10\n",
    "if x > 5:\n",
    "    raise Exception(\"x should be < 5. but here value of x is {}\".format(x))"
   ]
  },
  {
   "source": [
    "#### AssertionError Exception"
   ],
   "cell_type": "markdown",
   "metadata": {}
  },
  {
   "source": [
    "<p>\n",
    "Instead of waiting for a program to crash midway, you cam also start by making an assertion in python\n",
    "<p>\n",
    "\n",
    "<p>assert : <br> Test if condition is true</p>"
   ],
   "cell_type": "markdown",
   "metadata": {}
  },
  {
   "cell_type": "code",
   "execution_count": 6,
   "metadata": {},
   "outputs": [
    {
     "output_type": "error",
     "ename": "AssertionError",
     "evalue": "this code run on linux only",
     "traceback": [
      "\u001b[1;31m---------------------------------------------------------------------------\u001b[0m",
      "\u001b[1;31mAssertionError\u001b[0m                            Traceback (most recent call last)",
      "\u001b[1;32m<ipython-input-6-d4b29bea9319>\u001b[0m in \u001b[0;36m<module>\u001b[1;34m\u001b[0m\n\u001b[0;32m      1\u001b[0m \u001b[1;32mimport\u001b[0m \u001b[0msys\u001b[0m\u001b[1;33m\u001b[0m\u001b[1;33m\u001b[0m\u001b[0m\n\u001b[1;32m----> 2\u001b[1;33m \u001b[1;32massert\u001b[0m \u001b[1;33m(\u001b[0m\u001b[1;34m'linux'\u001b[0m \u001b[1;32min\u001b[0m \u001b[0msys\u001b[0m\u001b[1;33m.\u001b[0m\u001b[0mplatform\u001b[0m\u001b[1;33m)\u001b[0m\u001b[1;33m,\u001b[0m\u001b[1;34m\"this code run on linux only\"\u001b[0m\u001b[1;33m\u001b[0m\u001b[1;33m\u001b[0m\u001b[0m\n\u001b[0m",
      "\u001b[1;31mAssertionError\u001b[0m: this code run on linux only"
     ]
    }
   ],
   "source": [
    "import sys\n",
    "assert ('linux' in sys.platform),\"this code run on linux only\""
   ]
  },
  {
   "source": [
    "#### try and Except Block"
   ],
   "cell_type": "markdown",
   "metadata": {}
  },
  {
   "source": [
    "</p>the try and except block in python is used to catch and handle exception </p>"
   ],
   "cell_type": "markdown",
   "metadata": {}
  },
  {
   "source": [
    "<ul>\n",
    "    <li>try : </li>\n",
    "    <p>run this code</p>\n",
    "    <li>except : </li>\n",
    "    <p>run this code when there is an exception       in preceding try block</p>\n",
    "</ul>"
   ],
   "cell_type": "markdown",
   "metadata": {}
  },
  {
   "cell_type": "code",
   "execution_count": 9,
   "metadata": {},
   "outputs": [],
   "source": [
    "def linux_interaction():\n",
    "    assert (\"linux\" in sys.platform),\"function can run only in linux system\"\n",
    "    print(\"doing something\")"
   ]
  },
  {
   "cell_type": "code",
   "execution_count": 10,
   "metadata": {},
   "outputs": [
    {
     "output_type": "error",
     "ename": "AssertionError",
     "evalue": "function can run only in linux system",
     "traceback": [
      "\u001b[1;31m---------------------------------------------------------------------------\u001b[0m",
      "\u001b[1;31mAssertionError\u001b[0m                            Traceback (most recent call last)",
      "\u001b[1;32m<ipython-input-10-5e9fee2404d9>\u001b[0m in \u001b[0;36m<module>\u001b[1;34m\u001b[0m\n\u001b[1;32m----> 1\u001b[1;33m \u001b[0mlinux_interaction\u001b[0m\u001b[1;33m(\u001b[0m\u001b[1;33m)\u001b[0m\u001b[1;33m\u001b[0m\u001b[1;33m\u001b[0m\u001b[0m\n\u001b[0m",
      "\u001b[1;32m<ipython-input-9-1fa54e99d834>\u001b[0m in \u001b[0;36mlinux_interaction\u001b[1;34m()\u001b[0m\n\u001b[0;32m      1\u001b[0m \u001b[1;32mdef\u001b[0m \u001b[0mlinux_interaction\u001b[0m\u001b[1;33m(\u001b[0m\u001b[1;33m)\u001b[0m\u001b[1;33m:\u001b[0m\u001b[1;33m\u001b[0m\u001b[1;33m\u001b[0m\u001b[0m\n\u001b[1;32m----> 2\u001b[1;33m     \u001b[1;32massert\u001b[0m \u001b[1;33m(\u001b[0m\u001b[1;34m\"linux\"\u001b[0m \u001b[1;32min\u001b[0m \u001b[0msys\u001b[0m\u001b[1;33m.\u001b[0m\u001b[0mplatform\u001b[0m\u001b[1;33m)\u001b[0m\u001b[1;33m,\u001b[0m\u001b[1;34m\"function can run only in linux system\"\u001b[0m\u001b[1;33m\u001b[0m\u001b[1;33m\u001b[0m\u001b[0m\n\u001b[0m\u001b[0;32m      3\u001b[0m     \u001b[0mprint\u001b[0m\u001b[1;33m(\u001b[0m\u001b[1;34m\"doing something\"\u001b[0m\u001b[1;33m)\u001b[0m\u001b[1;33m\u001b[0m\u001b[1;33m\u001b[0m\u001b[0m\n",
      "\u001b[1;31mAssertionError\u001b[0m: function can run only in linux system"
     ]
    }
   ],
   "source": [
    "linux_interaction()"
   ]
  },
  {
   "cell_type": "code",
   "execution_count": 12,
   "metadata": {},
   "outputs": [
    {
     "output_type": "stream",
     "name": "stdout",
     "text": [
      "ohh you need a linux  platform\n"
     ]
    }
   ],
   "source": [
    "try:\n",
    "    linux_interaction()\n",
    "except:\n",
    "    print(\"ohh you need a linux  platform\")    "
   ]
  },
  {
   "cell_type": "code",
   "execution_count": 13,
   "metadata": {},
   "outputs": [
    {
     "output_type": "stream",
     "name": "stdout",
     "text": [
      "function can run only in linux system\nthe function was not executed\n"
     ]
    }
   ],
   "source": [
    "try:\n",
    "    linux_interaction()\n",
    "except AssertionError as err:\n",
    "    print(err)\n",
    "    print(\"the function was not executed\")    "
   ]
  },
  {
   "cell_type": "code",
   "execution_count": 15,
   "metadata": {},
   "outputs": [
    {
     "output_type": "stream",
     "name": "stdout",
     "text": [
      "[Errno 2] No such file or directory: 'file.log'\n"
     ]
    }
   ],
   "source": [
    "try :\n",
    "    with open('file.log') as file:\n",
    "        read_it = file.read()\n",
    "except FileNotFoundError as fnfError :\n",
    "    print(fnfError)        "
   ]
  },
  {
   "source": [
    "a try clause is executed up until the point where  the first exception is encountered\n",
    "\n",
    "inside except clause, you determine how the program responds to the exception\n",
    "\n",
    "avoid using bare exception \n",
    "\n",
    "bcz while catching an exception it hides all of the errors "
   ],
   "cell_type": "markdown",
   "metadata": {}
  },
  {
   "source": [
    "else clause will simply be executed if no exception is seen"
   ],
   "cell_type": "markdown",
   "metadata": {}
  },
  {
   "source": [
    "like if no exception is found then first try block's code is executed and then the else code is executed"
   ],
   "cell_type": "markdown",
   "metadata": {}
  },
  {
   "source": [
    "or simply within else also you can use try except block again for further handling of exceptions"
   ],
   "cell_type": "markdown",
   "metadata": {}
  },
  {
   "source": [
    "finally is always the code that will be running "
   ],
   "cell_type": "markdown",
   "metadata": {}
  },
  {
   "cell_type": "code",
   "execution_count": null,
   "metadata": {},
   "outputs": [],
   "source": []
  }
 ]
}