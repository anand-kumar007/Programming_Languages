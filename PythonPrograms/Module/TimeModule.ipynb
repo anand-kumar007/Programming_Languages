{
 "metadata": {
  "language_info": {
   "codemirror_mode": {
    "name": "ipython",
    "version": 3
   },
   "file_extension": ".py",
   "mimetype": "text/x-python",
   "name": "python",
   "nbconvert_exporter": "python",
   "pygments_lexer": "ipython3",
   "version": "3.9.4"
  },
  "orig_nbformat": 2,
  "kernelspec": {
   "name": "python394jvsc74a57bd0ea51e475891ca790c54a725496b7fac20a92b46aeab64ead1c1373b2d821abcb",
   "display_name": "Python 3.9.4 64-bit"
  },
  "metadata": {
   "interpreter": {
    "hash": "ea51e475891ca790c54a725496b7fac20a92b46aeab64ead1c1373b2d821abcb"
   }
  }
 },
 "nbformat": 4,
 "nbformat_minor": 2,
 "cells": [
  {
   "source": [
    "### Time Module"
   ],
   "cell_type": "markdown",
   "metadata": {}
  },
  {
   "source": [
    "<dl>\n",
    "    <dt>time()\n",
    "    <dd>Returns the number of seconds</dd>\n",
    "    </dt>\n",
    "    <dt>ctime()\n",
    "    <dd>Returns the current date and time</dd>\n",
    "    </dt>\n",
    "    <dt>sleep()\n",
    "    <dd>stop execution of given thread for given duration</dd>\n",
    "     </dt>\n",
    "    <dt>localtime()\n",
    "    <dd>Returns date and time in struct_time format</dd>\n",
    "    </dt>\n",
    "     <dt>gmtime()\n",
    "    <dd>Returns date and time in UTC format</dd>\n",
    "    </dt>\n",
    "    <dt>mktime()\n",
    "    <dd>Returns seconds passed since epoch pass output</dd>\n",
    "    </dt>\n",
    "    <dt>asctime()\n",
    "    <dd>Returns a string representing the same</dd>\n",
    "    </dt>\n",
    "   \n",
    "</dl>"
   ],
   "cell_type": "markdown",
   "metadata": {}
  },
  {
   "source": [
    "begins recording time from the epoch that begins at 00:00:00  1st Jan 1970"
   ],
   "cell_type": "markdown",
   "metadata": {}
  },
  {
   "cell_type": "code",
   "execution_count": 2,
   "metadata": {},
   "outputs": [],
   "source": [
    "import time"
   ]
  },
  {
   "cell_type": "code",
   "execution_count": 3,
   "metadata": {},
   "outputs": [
    {
     "output_type": "execute_result",
     "data": {
      "text/plain": [
       "1620666658.9820843"
      ]
     },
     "metadata": {},
     "execution_count": 3
    }
   ],
   "source": [
    "time.time()"
   ]
  },
  {
   "cell_type": "code",
   "execution_count": 4,
   "metadata": {},
   "outputs": [
    {
     "output_type": "execute_result",
     "data": {
      "text/plain": [
       "'Mon May 10 22:40:58 2021'"
      ]
     },
     "metadata": {},
     "execution_count": 4
    }
   ],
   "source": [
    "time.ctime(1620666658.9820843)"
   ]
  },
  {
   "cell_type": "code",
   "execution_count": 5,
   "metadata": {},
   "outputs": [
    {
     "output_type": "stream",
     "name": "stdout",
     "text": [
      "Help on built-in function time in module time:\n\ntime(...)\n    time() -> floating point number\n    \n    Return the current time in seconds since the Epoch.\n    Fractions of a second may be present if the system clock provides them.\n\n"
     ]
    }
   ],
   "source": [
    "help(time.time)"
   ]
  },
  {
   "cell_type": "code",
   "execution_count": 6,
   "metadata": {},
   "outputs": [
    {
     "output_type": "execute_result",
     "data": {
      "text/plain": [
       "time.struct_time(tm_year=2021, tm_mon=5, tm_mday=10, tm_hour=22, tm_min=42, tm_sec=0, tm_wday=0, tm_yday=130, tm_isdst=0)"
      ]
     },
     "metadata": {},
     "execution_count": 6
    }
   ],
   "source": [
    "time.localtime()"
   ]
  },
  {
   "cell_type": "code",
   "execution_count": 7,
   "metadata": {},
   "outputs": [],
   "source": [
    "# struct time class has 9 attributes as shown above"
   ]
  },
  {
   "cell_type": "code",
   "execution_count": 14,
   "metadata": {},
   "outputs": [],
   "source": [
    "# from IPython import display\n",
    "# display.Image(\"./structTimeClass.jpg\")\n",
    "\n",
    "#Import library\n",
    "# from IPython.display import Image\n",
    "# Load image from local storage\n",
    "# Image(filename = \"./structTimeClass.jpg\", width = 100, height = 100)"
   ]
  },
  {
   "cell_type": "code",
   "execution_count": 15,
   "metadata": {},
   "outputs": [
    {
     "output_type": "stream",
     "name": "stdout",
     "text": [
      "1620667373.0\n"
     ]
    }
   ],
   "source": [
    "a = time.localtime()\n",
    "b = time.mktime(a)\n",
    "\n",
    "print(b)"
   ]
  },
  {
   "cell_type": "code",
   "execution_count": 16,
   "metadata": {},
   "outputs": [
    {
     "output_type": "stream",
     "name": "stdout",
     "text": [
      "Mon May 10 22:52:53 2021\n"
     ]
    }
   ],
   "source": [
    "print(time.asctime(a))  #since a is int str_format"
   ]
  },
  {
   "source": [
    "#### localtime() return time in str_format\n",
    "#### convert it into our readable format using asctime()"
   ],
   "cell_type": "markdown",
   "metadata": {}
  },
  {
   "cell_type": "code",
   "execution_count": 18,
   "metadata": {},
   "outputs": [
    {
     "output_type": "stream",
     "name": "stdout",
     "text": [
      "Help on built-in function strftime in module time:\n\nstrftime(...)\n    strftime(format[, tuple]) -> string\n    \n    Convert a time tuple to a string according to a format specification.\n    See the library reference manual for formatting codes. When the time tuple\n    is not present, current time as returned by localtime() is used.\n    \n    Commonly used format codes:\n    \n    %Y  Year with century as a decimal number.\n    %m  Month as a decimal number [01,12].\n    %d  Day of the month as a decimal number [01,31].\n    %H  Hour (24-hour clock) as a decimal number [00,23].\n    %M  Minute as a decimal number [00,59].\n    %S  Second as a decimal number [00,61].\n    %z  Time zone offset from UTC.\n    %a  Locale's abbreviated weekday name.\n    %A  Locale's full weekday name.\n    %b  Locale's abbreviated month name.\n    %B  Locale's full month name.\n    %c  Locale's appropriate date and time representation.\n    %I  Hour (12-hour clock) as a decimal number [01,12].\n    %p  Locale's equivalent of either AM or PM.\n    \n    Other codes may be available on your platform.  See documentation for\n    the C library strftime function.\n\n"
     ]
    }
   ],
   "source": [
    "help(time.strftime)"
   ]
  },
  {
   "cell_type": "code",
   "execution_count": 19,
   "metadata": {},
   "outputs": [
    {
     "output_type": "stream",
     "name": "stdout",
     "text": [
      "time.struct_time(tm_year=2021, tm_mon=5, tm_mday=10, tm_hour=22, tm_min=52, tm_sec=53, tm_wday=0, tm_yday=130, tm_isdst=0)\n"
     ]
    }
   ],
   "source": [
    "print(a)"
   ]
  },
  {
   "cell_type": "code",
   "execution_count": 24,
   "metadata": {},
   "outputs": [],
   "source": [
    "x = time.strftime(\"%Y-%m-%d\")\n",
    "y = time.strftime(\"%d|%m|%Y\")\n"
   ]
  },
  {
   "cell_type": "code",
   "execution_count": 25,
   "metadata": {},
   "outputs": [
    {
     "output_type": "stream",
     "name": "stdout",
     "text": [
      "2021-05-10\n"
     ]
    }
   ],
   "source": [
    "print(x)"
   ]
  },
  {
   "cell_type": "code",
   "execution_count": 26,
   "metadata": {},
   "outputs": [
    {
     "output_type": "stream",
     "name": "stdout",
     "text": [
      "10|05|2021\n"
     ]
    }
   ],
   "source": [
    "print(y)"
   ]
  },
  {
   "source": [
    "### the datetime module"
   ],
   "cell_type": "markdown",
   "metadata": {}
  },
  {
   "source": [
    "<dl>\n",
    "    <dt>datetime()\n",
    "    <dd>Datetime constructor</dd></dt>\n",
    "    <dt>datetime.today()\n",
    "    <dd>current date and time</dd></dt>\n",
    "    <dt>datetime.now()\n",
    "    <dd>current date and time</dd></dt>\n",
    "    <dt>date()\n",
    "    <dd>take year,month,day as parameter and           creates corresponding date</dd></dt>\n",
    "    <dt>time()\n",
    "    <dd>take hours,minutes,sec,,microsecods and       tzinfo as parameter and creates corresponding      date</dd></dt>\n",
    "    \n",
    "    <dt>datetime.formstamp()\n",
    "    <dd>convert seconds to return the                 corresponding date and time</dd></dt>\n",
    "    <dt>timedelta()\n",
    "    <dd>it is difference between dates or times       (duration)</dd></dt>\n",
    "    \n",
    "</dl>"
   ],
   "cell_type": "markdown",
   "metadata": {}
  },
  {
   "cell_type": "code",
   "execution_count": 28,
   "metadata": {},
   "outputs": [],
   "source": [
    "import datetime"
   ]
  },
  {
   "cell_type": "code",
   "execution_count": 29,
   "metadata": {},
   "outputs": [
    {
     "output_type": "execute_result",
     "data": {
      "text/plain": [
       "datetime.datetime(2021, 5, 10, 23, 11, 24, 715388)"
      ]
     },
     "metadata": {},
     "execution_count": 29
    }
   ],
   "source": [
    "datetime.datetime.now()"
   ]
  },
  {
   "cell_type": "code",
   "execution_count": 30,
   "metadata": {},
   "outputs": [
    {
     "output_type": "execute_result",
     "data": {
      "text/plain": [
       "datetime.datetime(2021, 5, 10, 23, 11, 33, 601321)"
      ]
     },
     "metadata": {},
     "execution_count": 30
    }
   ],
   "source": [
    "datetime.datetime.today()"
   ]
  },
  {
   "cell_type": "code",
   "execution_count": 32,
   "metadata": {},
   "outputs": [
    {
     "output_type": "execute_result",
     "data": {
      "text/plain": [
       "2021"
      ]
     },
     "metadata": {},
     "execution_count": 32
    }
   ],
   "source": [
    "v = datetime.datetime.today()\n",
    "v.year"
   ]
  },
  {
   "cell_type": "code",
   "execution_count": 33,
   "metadata": {},
   "outputs": [
    {
     "output_type": "stream",
     "name": "stdout",
     "text": [
      "5\n10\n23\n"
     ]
    }
   ],
   "source": [
    "print(v.month)\n",
    "print(v.day)\n",
    "print(v.hour)\n"
   ]
  },
  {
   "cell_type": "code",
   "execution_count": 34,
   "metadata": {},
   "outputs": [
    {
     "output_type": "execute_result",
     "data": {
      "text/plain": [
       "datetime.date(2019, 7, 5)"
      ]
     },
     "metadata": {},
     "execution_count": 34
    }
   ],
   "source": [
    "datetime.date(2019,7,5)"
   ]
  },
  {
   "cell_type": "code",
   "execution_count": 35,
   "metadata": {},
   "outputs": [
    {
     "output_type": "execute_result",
     "data": {
      "text/plain": [
       "datetime.time(3, 43, 33)"
      ]
     },
     "metadata": {},
     "execution_count": 35
    }
   ],
   "source": [
    "datetime.time(3,43,33)"
   ]
  },
  {
   "cell_type": "code",
   "execution_count": 36,
   "metadata": {},
   "outputs": [
    {
     "output_type": "stream",
     "name": "stdout",
     "text": [
      "10 days, 0:00:00\n<class 'datetime.timedelta'>\n"
     ]
    }
   ],
   "source": [
    "b1 = datetime.timedelta(days=20)\n",
    "\n",
    "b2 = datetime.timedelta(days=30)\n",
    "\n",
    "c= b2-b1\n",
    "print(c)\n",
    "print(type(c))"
   ]
  },
  {
   "cell_type": "code",
   "execution_count": null,
   "metadata": {},
   "outputs": [],
   "source": []
  }
 ]
}