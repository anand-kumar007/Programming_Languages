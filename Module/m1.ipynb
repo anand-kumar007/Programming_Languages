{
 "metadata": {
  "language_info": {
   "codemirror_mode": {
    "name": "ipython",
    "version": 3
   },
   "file_extension": ".py",
   "mimetype": "text/x-python",
   "name": "python",
   "nbconvert_exporter": "python",
   "pygments_lexer": "ipython3",
   "version": "3.9.4"
  },
  "orig_nbformat": 2,
  "kernelspec": {
   "name": "python394jvsc74a57bd0ea51e475891ca790c54a725496b7fac20a92b46aeab64ead1c1373b2d821abcb",
   "display_name": "Python 3.9.4 64-bit"
  },
  "metadata": {
   "interpreter": {
    "hash": "ea51e475891ca790c54a725496b7fac20a92b46aeab64ead1c1373b2d821abcb"
   }
  }
 },
 "nbformat": 4,
 "nbformat_minor": 2,
 "cells": [
  {
   "source": [
    "<h4>Modular programming is designing technique to break your code into separate parts </h4>"
   ],
   "cell_type": "markdown",
   "metadata": {}
  },
  {
   "source": [
    "these parts are called modules.\n",
    "\n",
    "no or minimal dependecy on each other and single piece of code can be reused again and again."
   ],
   "cell_type": "markdown",
   "metadata": {}
  },
  {
   "source": [
    "A module in simply a file containing python code. it may contain functions,classes etc."
   ],
   "cell_type": "markdown",
   "metadata": {}
  },
  {
   "source": [
    "calculator -->\n",
    "addition module\n",
    "\n",
    "subtraction module\n",
    "\n",
    "multiple module\n",
    "\n",
    "division module"
   ],
   "cell_type": "markdown",
   "metadata": {}
  },
  {
   "source": [
    "for creating module simply write down the py file and if wanna use it somewhere import it."
   ],
   "cell_type": "markdown",
   "metadata": {}
  },
  {
   "cell_type": "code",
   "execution_count": 2,
   "metadata": {},
   "outputs": [
    {
     "output_type": "stream",
     "name": "stdout",
     "text": [
      "30\n"
     ]
    }
   ],
   "source": [
    "import calc\n",
    "\n",
    "print(calc.add(10,20))"
   ]
  },
  {
   "source": [
    "### BuiltIn modules"
   ],
   "cell_type": "markdown",
   "metadata": {}
  },
  {
   "source": [
    "Built in modules are written in C and interpreted using the python interpreter."
   ],
   "cell_type": "markdown",
   "metadata": {}
  },
  {
   "cell_type": "code",
   "execution_count": 4,
   "metadata": {},
   "outputs": [
    {
     "output_type": "stream",
     "name": "stdout",
     "text": [
      "Package                   Version\n",
      "------------------------- ---------\n",
      "altgraph                  0.17\n",
      "appdirs                   1.4.4\n",
      "astroid                   2.5.6\n",
      "backcall                  0.2.0\n",
      "black                     21.5b0\n",
      "click                     7.1.2\n",
      "colorama                  0.4.4\n",
      "cycler                    0.10.0\n",
      "decorator                 5.0.7\n",
      "distlib                   0.3.1\n",
      "filelock                  3.0.12\n",
      "future                    0.18.2\n",
      "ipykernel                 5.5.3\n",
      "ipython                   7.23.0\n",
      "ipython-genutils          0.2.0\n",
      "isort                     5.8.0\n",
      "jedi                      0.18.0\n",
      "jupyter-client            6.1.12\n",
      "jupyter-core              4.7.1\n",
      "kiwisolver                1.3.1\n",
      "lazy-object-proxy         1.6.0\n",
      "matplotlib                3.4.2\n",
      "matplotlib-inline         0.1.2\n",
      "mccabe                    0.6.1\n",
      "mypy-extensions           0.4.3\n",
      "numpy                     1.20.2\n",
      "pandas                    1.2.4\n",
      "parso                     0.8.2\n",
      "pathspec                  0.8.1\n",
      "pefile                    2019.4.18\n",
      "pickleshare               0.7.5\n",
      "Pillow                    8.2.0\n",
      "pip                       21.1.1\n",
      "prompt-toolkit            3.0.18\n",
      "Pygments                  2.8.1\n",
      "pyinstaller               4.0\n",
      "pyinstaller-hooks-contrib 2020.9\n",
      "pylint                    2.8.2\n",
      "pyparsing                 2.4.7\n",
      "python-dateutil           2.8.1\n",
      "pytz                      2021.1\n",
      "pywin32                   300\n",
      "pywin32-ctypes            0.2.0\n",
      "pyzmq                     22.0.3\n",
      "regex                     2021.4.4\n",
      "scipy                     1.6.3\n",
      "seaborn                   0.11.1\n",
      "setuptools                49.2.1\n",
      "six                       1.15.0\n",
      "toml                      0.10.2\n",
      "tornado                   6.1\n",
      "traitlets                 5.0.5\n",
      "virtualenv                20.4.3\n",
      "wcwidth                   0.2.5\n",
      "wrapt                     1.12.1\n"
     ]
    }
   ],
   "source": [
    "! pip list"
   ]
  },
  {
   "cell_type": "code",
   "execution_count": 6,
   "metadata": {},
   "outputs": [
    {
     "output_type": "stream",
     "name": "stdout",
     "text": [
      "['__builtins__', '__cached__', '__doc__', '__file__', '__loader__', '__name__', '__package__', '__spec__', 'add', 'divide', 'mul', 'sub']\n"
     ]
    }
   ],
   "source": [
    "print(dir(calc))"
   ]
  },
  {
   "cell_type": "code",
   "execution_count": 9,
   "metadata": {},
   "outputs": [
    {
     "output_type": "stream",
     "name": "stdout",
     "text": [
      "['__doc__', '__loader__', '__name__', '__package__', '__spec__', 'acos', 'acosh', 'asin', 'asinh', 'atan', 'atan2', 'atanh', 'ceil', 'comb', 'copysign', 'cos', 'cosh', 'degrees', 'dist', 'e', 'erf', 'erfc', 'exp', 'expm1', 'fabs', 'factorial', 'floor', 'fmod', 'frexp', 'fsum', 'gamma', 'gcd', 'hypot', 'inf', 'isclose', 'isfinite', 'isinf', 'isnan', 'isqrt', 'lcm', 'ldexp', 'lgamma', 'log', 'log10', 'log1p', 'log2', 'modf', 'nan', 'nextafter', 'perm', 'pi', 'pow', 'prod', 'radians', 'remainder', 'sin', 'sinh', 'sqrt', 'tan', 'tanh', 'tau', 'trunc', 'ulp']\n"
     ]
    }
   ],
   "source": [
    "import math as mt\n",
    "print(dir(mt))"
   ]
  },
  {
   "cell_type": "code",
   "execution_count": 10,
   "metadata": {},
   "outputs": [
    {
     "output_type": "stream",
     "name": "stdout",
     "text": [
      "-0.5440211108893698\n"
     ]
    }
   ],
   "source": [
    "print(mt.sin(10))"
   ]
  },
  {
   "cell_type": "code",
   "execution_count": 12,
   "metadata": {},
   "outputs": [
    {
     "output_type": "execute_result",
     "data": {
      "text/plain": [
       "['c:\\\\Users\\\\Sam\\\\Desktop\\\\Python\\\\codes\\\\Module',\n",
       " 'c:\\\\Users\\\\Sam\\\\.vscode\\\\extensions\\\\ms-toolsai.jupyter-2021.6.811652604\\\\pythonFiles',\n",
       " 'c:\\\\Users\\\\Sam\\\\.vscode\\\\extensions\\\\ms-toolsai.jupyter-2021.6.811652604\\\\pythonFiles',\n",
       " 'c:\\\\Users\\\\Sam\\\\.vscode\\\\extensions\\\\ms-toolsai.jupyter-2021.6.811652604\\\\pythonFiles\\\\lib\\\\python',\n",
       " 'C:\\\\Program Files\\\\Python\\\\Python394\\\\python39.zip',\n",
       " 'C:\\\\Program Files\\\\Python\\\\Python394\\\\DLLs',\n",
       " 'C:\\\\Program Files\\\\Python\\\\Python394\\\\lib',\n",
       " 'C:\\\\Program Files\\\\Python\\\\Python394',\n",
       " '',\n",
       " 'C:\\\\Users\\\\Sam\\\\AppData\\\\Roaming\\\\Python\\\\Python39\\\\site-packages',\n",
       " 'C:\\\\Users\\\\Sam\\\\AppData\\\\Roaming\\\\Python\\\\Python39\\\\site-packages\\\\win32',\n",
       " 'C:\\\\Users\\\\Sam\\\\AppData\\\\Roaming\\\\Python\\\\Python39\\\\site-packages\\\\win32\\\\lib',\n",
       " 'C:\\\\Users\\\\Sam\\\\AppData\\\\Roaming\\\\Python\\\\Python39\\\\site-packages\\\\Pythonwin',\n",
       " 'C:\\\\Program Files\\\\Python\\\\Python394\\\\lib\\\\site-packages',\n",
       " 'C:\\\\Users\\\\Sam\\\\AppData\\\\Roaming\\\\Python\\\\Python39\\\\site-packages\\\\IPython\\\\extensions',\n",
       " 'C:\\\\Users\\\\Sam\\\\.ipython']"
      ]
     },
     "metadata": {},
     "execution_count": 12
    }
   ],
   "source": [
    "sys.path"
   ]
  },
  {
   "source": [
    "### Python Module search path"
   ],
   "cell_type": "markdown",
   "metadata": {}
  },
  {
   "source": [
    "when we import a module, Pyhton searches for the module at certain places.\n",
    "\n",
    "If it cannot find the module in the built-in modules, it searches throught the list in the sys.path"
   ],
   "cell_type": "markdown",
   "metadata": {}
  },
  {
   "source": [
    "like \n",
    "1.Current directory\n",
    "\n",
    "2.Python Path\n",
    "\n",
    "3.Default Directory"
   ],
   "cell_type": "markdown",
   "metadata": {}
  },
  {
   "cell_type": "code",
   "execution_count": 13,
   "metadata": {},
   "outputs": [
    {
     "output_type": "stream",
     "name": "stdout",
     "text": [
      "['c:\\\\Users\\\\Sam\\\\Desktop\\\\Python\\\\codes\\\\Module', 'c:\\\\Users\\\\Sam\\\\.vscode\\\\extensions\\\\ms-toolsai.jupyter-2021.6.811652604\\\\pythonFiles', 'c:\\\\Users\\\\Sam\\\\.vscode\\\\extensions\\\\ms-toolsai.jupyter-2021.6.811652604\\\\pythonFiles', 'c:\\\\Users\\\\Sam\\\\.vscode\\\\extensions\\\\ms-toolsai.jupyter-2021.6.811652604\\\\pythonFiles\\\\lib\\\\python', 'C:\\\\Program Files\\\\Python\\\\Python394\\\\python39.zip', 'C:\\\\Program Files\\\\Python\\\\Python394\\\\DLLs', 'C:\\\\Program Files\\\\Python\\\\Python394\\\\lib', 'C:\\\\Program Files\\\\Python\\\\Python394', '', 'C:\\\\Users\\\\Sam\\\\AppData\\\\Roaming\\\\Python\\\\Python39\\\\site-packages', 'C:\\\\Users\\\\Sam\\\\AppData\\\\Roaming\\\\Python\\\\Python39\\\\site-packages\\\\win32', 'C:\\\\Users\\\\Sam\\\\AppData\\\\Roaming\\\\Python\\\\Python39\\\\site-packages\\\\win32\\\\lib', 'C:\\\\Users\\\\Sam\\\\AppData\\\\Roaming\\\\Python\\\\Python39\\\\site-packages\\\\Pythonwin', 'C:\\\\Program Files\\\\Python\\\\Python394\\\\lib\\\\site-packages', 'C:\\\\Users\\\\Sam\\\\AppData\\\\Roaming\\\\Python\\\\Python39\\\\site-packages\\\\IPython\\\\extensions', 'C:\\\\Users\\\\Sam\\\\.ipython']\n"
     ]
    }
   ],
   "source": [
    "import sys\n",
    "\n",
    "print(sys.path)"
   ]
  },
  {
   "source": [
    "### few built in modules in python"
   ],
   "cell_type": "markdown",
   "metadata": {}
  },
  {
   "cell_type": "code",
   "execution_count": 18,
   "metadata": {},
   "outputs": [
    {
     "output_type": "stream",
     "name": "stdout",
     "text": [
      "120\n20\n19\n18.520259177452136\n"
     ]
    }
   ],
   "source": [
    "# Math\n",
    "import math\n",
    "\n",
    "print(math.factorial(5))\n",
    "\n",
    "print(math.ceil(19.22))\n",
    "\n",
    "print(math.floor(19.23))\n",
    "\n",
    "print(math.sqrt(343))\n"
   ]
  },
  {
   "cell_type": "code",
   "execution_count": 22,
   "metadata": {},
   "outputs": [
    {
     "output_type": "stream",
     "name": "stdout",
     "text": [
      "4\n2\n0\n2\n"
     ]
    }
   ],
   "source": [
    "# random\n",
    "import random \n",
    "\n",
    "print(random.randrange(0,5))\n",
    "\n",
    "print(random.randrange(0,5))\n",
    "\n",
    "print(random.randrange(0,5))\n",
    "\n",
    "print(random.randrange(0,5))"
   ]
  },
  {
   "cell_type": "code",
   "execution_count": 29,
   "metadata": {},
   "outputs": [
    {
     "output_type": "stream",
     "name": "stdout",
     "text": [
      "2021-05-10\n"
     ]
    }
   ],
   "source": [
    "# datetime\n",
    "import datetime\n",
    "\n",
    "print(datetime.date.today())\n"
   ]
  },
  {
   "cell_type": "code",
   "execution_count": null,
   "metadata": {},
   "outputs": [],
   "source": []
  }
 ]
}