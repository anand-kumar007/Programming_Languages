{
 "cells": [
  {
   "cell_type": "markdown",
   "metadata": {},
   "source": [
    "What is an Array.\n",
    "\n",
    "Are list and array same in python ?\n",
    "\n",
    "How to create array in python ?\n",
    "\n",
    "Accessing array elements.\n",
    "\n",
    "Basic array operation\n",
    "\n",
    "    1.Finding length of array\n",
    "    2.Addition,Removal,Concatenation\n",
    "    3.Slicing\n",
    "    4.Looping"
   ]
  },
  {
   "cell_type": "markdown",
   "metadata": {},
   "source": [
    "### Araay "
   ]
  },
  {
   "cell_type": "markdown",
   "metadata": {},
   "source": [
    "Array is data structure which can hold more than one value at a time.\n",
    "\n",
    "it is a collection or ordered series of elements of same type"
   ]
  },
  {
   "cell_type": "markdown",
   "metadata": {},
   "source": [
    "### Are Pyhton list and array same ?"
   ]
  },
  {
   "cell_type": "markdown",
   "metadata": {},
   "source": [
    "Python list and array have the same way of storing the data.\n",
    "\n",
    "array can hold only data items of same type in python but list can hold multiple type of itmes.\n",
    "\n",
    "hence other than few operations kind of operation performed on them are same.\n",
    "\n",
    "few operations like dividing the whole array by 2 etc can be done with array not with list if they have diff items type"
   ]
  },
  {
   "cell_type": "code",
   "execution_count": 1,
   "metadata": {},
   "outputs": [],
   "source": [
    "from array import *\n",
    "\n",
    "list1 = [1,2,3,\"sam\"]\n",
    "arr = array('i',[2,4,6,8])"
   ]
  },
  {
   "cell_type": "code",
   "execution_count": 2,
   "metadata": {},
   "outputs": [
    {
     "output_type": "stream",
     "name": "stdout",
     "text": [
      "array('i', [2, 4, 6, 8, 1, 3])\n[1, 2, 3, 'sam', 2, 3, 4]\n"
     ]
    }
   ],
   "source": [
    "print(arr +array('i',[1,3]))\n",
    "print(list1 + [2,3,4])\n",
    "\n"
   ]
  },
  {
   "cell_type": "code",
   "execution_count": 3,
   "metadata": {},
   "outputs": [
    {
     "output_type": "stream",
     "name": "stdout",
     "text": [
      "2\n4\n6\n8\n"
     ]
    }
   ],
   "source": [
    "for x in arr:\n",
    "    print(x)"
   ]
  },
  {
   "cell_type": "markdown",
   "metadata": {},
   "source": [
    "### Creating array in python"
   ]
  },
  {
   "cell_type": "code",
   "execution_count": 4,
   "metadata": {},
   "outputs": [],
   "source": [
    "# array can be created in python after importing array module in python"
   ]
  },
  {
   "cell_type": "code",
   "execution_count": 5,
   "metadata": {},
   "outputs": [],
   "source": [
    "# import array\n",
    "# import array as arr   -->widely used\n",
    "# from array import *"
   ]
  },
  {
   "cell_type": "markdown",
   "metadata": {},
   "source": [
    "### First Way"
   ]
  },
  {
   "cell_type": "code",
   "execution_count": 6,
   "metadata": {},
   "outputs": [],
   "source": [
    "import array\n",
    "a1 = array.array('i',[1,2,3,4])   #first array is name of module and the second array is the array constructor"
   ]
  },
  {
   "cell_type": "code",
   "execution_count": 7,
   "metadata": {},
   "outputs": [
    {
     "output_type": "stream",
     "name": "stdout",
     "text": [
      "array('i', [1, 2, 3, 4])\n"
     ]
    }
   ],
   "source": [
    "print(a1)\n"
   ]
  },
  {
   "cell_type": "markdown",
   "metadata": {},
   "source": [
    "### Second Way"
   ]
  },
  {
   "cell_type": "code",
   "execution_count": 8,
   "metadata": {},
   "outputs": [],
   "source": [
    "import array as arr\n",
    "a2 = arr.array('d',[1.2,2.3,4.5]) "
   ]
  },
  {
   "cell_type": "code",
   "execution_count": 9,
   "metadata": {},
   "outputs": [
    {
     "output_type": "execute_result",
     "data": {
      "text/plain": [
       "array('d', [1.2, 2.3, 4.5])"
      ]
     },
     "metadata": {},
     "execution_count": 9
    }
   ],
   "source": [
    "a2"
   ]
  },
  {
   "cell_type": "markdown",
   "metadata": {},
   "source": [
    "### Third way"
   ]
  },
  {
   "cell_type": "code",
   "execution_count": 10,
   "metadata": {},
   "outputs": [
    {
     "output_type": "error",
     "ename": "TypeError",
     "evalue": "array() argument 1 must be a unicode character, not str",
     "traceback": [
      "\u001b[1;31m---------------------------------------------------------------------------\u001b[0m",
      "\u001b[1;31mTypeError\u001b[0m                                 Traceback (most recent call last)",
      "\u001b[1;32m<ipython-input-10-447323760794>\u001b[0m in \u001b[0;36m<module>\u001b[1;34m\u001b[0m\n\u001b[0;32m      1\u001b[0m \u001b[1;32mfrom\u001b[0m \u001b[0marray\u001b[0m \u001b[1;32mimport\u001b[0m \u001b[1;33m*\u001b[0m\u001b[1;33m\u001b[0m\u001b[1;33m\u001b[0m\u001b[0m\n\u001b[1;32m----> 2\u001b[1;33m \u001b[0ma3\u001b[0m \u001b[1;33m=\u001b[0m \u001b[0marray\u001b[0m\u001b[1;33m(\u001b[0m\u001b[1;34m'str'\u001b[0m\u001b[1;33m,\u001b[0m\u001b[1;33m[\u001b[0m\u001b[1;34m'sam'\u001b[0m\u001b[1;33m,\u001b[0m\u001b[1;34m'siya'\u001b[0m\u001b[1;33m,\u001b[0m\u001b[1;34m'loki'\u001b[0m\u001b[1;33m]\u001b[0m\u001b[1;33m)\u001b[0m\u001b[1;33m\u001b[0m\u001b[1;33m\u001b[0m\u001b[0m\n\u001b[0m",
      "\u001b[1;31mTypeError\u001b[0m: array() argument 1 must be a unicode character, not str"
     ]
    }
   ],
   "source": [
    "from array import *\n",
    "a3 = array('str',['sam','siya','loki'])"
   ]
  },
  {
   "cell_type": "code",
   "execution_count": 11,
   "metadata": {},
   "outputs": [
    {
     "output_type": "error",
     "ename": "ValueError",
     "evalue": "bad typecode (must be b, B, u, h, H, i, I, l, L, q, Q, f or d)",
     "traceback": [
      "\u001b[1;31m---------------------------------------------------------------------------\u001b[0m",
      "\u001b[1;31mValueError\u001b[0m                                Traceback (most recent call last)",
      "\u001b[1;32m<ipython-input-11-c1248105ee78>\u001b[0m in \u001b[0;36m<module>\u001b[1;34m\u001b[0m\n\u001b[0;32m      1\u001b[0m \u001b[1;32mfrom\u001b[0m \u001b[0marray\u001b[0m \u001b[1;32mimport\u001b[0m \u001b[1;33m*\u001b[0m\u001b[1;33m\u001b[0m\u001b[1;33m\u001b[0m\u001b[0m\n\u001b[1;32m----> 2\u001b[1;33m \u001b[0ma3\u001b[0m \u001b[1;33m=\u001b[0m \u001b[0marray\u001b[0m\u001b[1;33m(\u001b[0m\u001b[1;34m's'\u001b[0m\u001b[1;33m,\u001b[0m\u001b[1;33m[\u001b[0m\u001b[1;34m'sam'\u001b[0m\u001b[1;33m,\u001b[0m\u001b[1;34m'siya'\u001b[0m\u001b[1;33m,\u001b[0m\u001b[1;34m'loki'\u001b[0m\u001b[1;33m]\u001b[0m\u001b[1;33m)\u001b[0m\u001b[1;33m\u001b[0m\u001b[1;33m\u001b[0m\u001b[0m\n\u001b[0m",
      "\u001b[1;31mValueError\u001b[0m: bad typecode (must be b, B, u, h, H, i, I, l, L, q, Q, f or d)"
     ]
    }
   ],
   "source": [
    "from array import *\n",
    "a3 = array('s',['sam','siya','loki'])"
   ]
  },
  {
   "cell_type": "code",
   "execution_count": 12,
   "metadata": {},
   "outputs": [
    {
     "output_type": "error",
     "ename": "TypeError",
     "evalue": "an integer is required (got type str)",
     "traceback": [
      "\u001b[1;31m---------------------------------------------------------------------------\u001b[0m",
      "\u001b[1;31mTypeError\u001b[0m                                 Traceback (most recent call last)",
      "\u001b[1;32m<ipython-input-12-8fba5fa05186>\u001b[0m in \u001b[0;36m<module>\u001b[1;34m\u001b[0m\n\u001b[0;32m      1\u001b[0m \u001b[1;32mfrom\u001b[0m \u001b[0marray\u001b[0m \u001b[1;32mimport\u001b[0m \u001b[1;33m*\u001b[0m\u001b[1;33m\u001b[0m\u001b[1;33m\u001b[0m\u001b[0m\n\u001b[1;32m----> 2\u001b[1;33m \u001b[0ma3\u001b[0m \u001b[1;33m=\u001b[0m \u001b[0marray\u001b[0m\u001b[1;33m(\u001b[0m\u001b[1;34m'b'\u001b[0m\u001b[1;33m,\u001b[0m\u001b[1;33m[\u001b[0m\u001b[1;34m'sam'\u001b[0m\u001b[1;33m,\u001b[0m\u001b[1;34m'siya'\u001b[0m\u001b[1;33m,\u001b[0m\u001b[1;34m'loki'\u001b[0m\u001b[1;33m]\u001b[0m\u001b[1;33m)\u001b[0m\u001b[1;33m\u001b[0m\u001b[1;33m\u001b[0m\u001b[0m\n\u001b[0m",
      "\u001b[1;31mTypeError\u001b[0m: an integer is required (got type str)"
     ]
    }
   ],
   "source": [
    "from array import *\n",
    "a3 = array('b',['sam','siya','loki'])"
   ]
  },
  {
   "cell_type": "code",
   "execution_count": 13,
   "metadata": {},
   "outputs": [
    {
     "output_type": "error",
     "ename": "TypeError",
     "evalue": "an integer is required (got type str)",
     "traceback": [
      "\u001b[1;31m---------------------------------------------------------------------------\u001b[0m",
      "\u001b[1;31mTypeError\u001b[0m                                 Traceback (most recent call last)",
      "\u001b[1;32m<ipython-input-13-5a71bcac3744>\u001b[0m in \u001b[0;36m<module>\u001b[1;34m\u001b[0m\n\u001b[0;32m      1\u001b[0m \u001b[1;32mfrom\u001b[0m \u001b[0marray\u001b[0m \u001b[1;32mimport\u001b[0m \u001b[1;33m*\u001b[0m\u001b[1;33m\u001b[0m\u001b[1;33m\u001b[0m\u001b[0m\n\u001b[1;32m----> 2\u001b[1;33m \u001b[0ma3\u001b[0m \u001b[1;33m=\u001b[0m \u001b[0marray\u001b[0m\u001b[1;33m(\u001b[0m\u001b[1;34m'q'\u001b[0m\u001b[1;33m,\u001b[0m\u001b[1;33m[\u001b[0m\u001b[1;34m'sam'\u001b[0m\u001b[1;33m,\u001b[0m\u001b[1;34m'siya'\u001b[0m\u001b[1;33m,\u001b[0m\u001b[1;34m'loki'\u001b[0m\u001b[1;33m]\u001b[0m\u001b[1;33m)\u001b[0m\u001b[1;33m\u001b[0m\u001b[1;33m\u001b[0m\u001b[0m\n\u001b[0m",
      "\u001b[1;31mTypeError\u001b[0m: an integer is required (got type str)"
     ]
    }
   ],
   "source": [
    "from array import *\n",
    "a3 = array('q',['sam','siya','loki'])"
   ]
  },
  {
   "cell_type": "code",
   "execution_count": 14,
   "metadata": {},
   "outputs": [],
   "source": [
    "from array import *\n",
    "a3 = array('q',[10,20,30])"
   ]
  },
  {
   "cell_type": "code",
   "execution_count": 15,
   "metadata": {},
   "outputs": [
    {
     "output_type": "execute_result",
     "data": {
      "text/plain": [
       "array('q', [10, 20, 30])"
      ]
     },
     "metadata": {},
     "execution_count": 15
    }
   ],
   "source": [
    "a3"
   ]
  },
  {
   "cell_type": "code",
   "execution_count": 16,
   "metadata": {},
   "outputs": [],
   "source": [
    "import array as arr"
   ]
  },
  {
   "cell_type": "code",
   "execution_count": 17,
   "metadata": {},
   "outputs": [],
   "source": [
    "arr1 = arr.array(\"i\",[10,20,30,40])"
   ]
  },
  {
   "cell_type": "code",
   "execution_count": 18,
   "metadata": {},
   "outputs": [
    {
     "output_type": "execute_result",
     "data": {
      "text/plain": [
       "array('i', [10, 20, 30, 40])"
      ]
     },
     "metadata": {},
     "execution_count": 18
    }
   ],
   "source": [
    "arr1"
   ]
  },
  {
   "source": [
    "### accessing array elements"
   ],
   "cell_type": "markdown",
   "metadata": {}
  },
  {
   "source": [
    "using the indexes starts from 0 till size-1\n",
    "also negative indexes can be used which starts in reverse order"
   ],
   "cell_type": "markdown",
   "metadata": {}
  },
  {
   "cell_type": "code",
   "execution_count": 19,
   "metadata": {},
   "outputs": [
    {
     "output_type": "execute_result",
     "data": {
      "text/plain": [
       "20"
      ]
     },
     "metadata": {},
     "execution_count": 19
    }
   ],
   "source": [
    "arr1[1]"
   ]
  },
  {
   "cell_type": "code",
   "execution_count": 20,
   "metadata": {},
   "outputs": [
    {
     "output_type": "execute_result",
     "data": {
      "text/plain": [
       "40"
      ]
     },
     "metadata": {},
     "execution_count": 20
    }
   ],
   "source": [
    "arr1[-1]  #would give the last element"
   ]
  },
  {
   "source": [
    "#### Basic array operations\n",
    "1. finding length\n",
    "2. adding or changing array elements\n",
    "3. deleting and removing array elements\n",
    "4. array concatenation\n",
    "5. slicing \n",
    "6. Looping"
   ],
   "cell_type": "markdown",
   "metadata": {}
  },
  {
   "source": [
    "1. finding length"
   ],
   "cell_type": "markdown",
   "metadata": {}
  },
  {
   "cell_type": "code",
   "execution_count": 21,
   "metadata": {},
   "outputs": [
    {
     "output_type": "execute_result",
     "data": {
      "text/plain": [
       "4"
      ]
     },
     "metadata": {},
     "execution_count": 21
    }
   ],
   "source": [
    "len(arr1)"
   ]
  },
  {
   "source": [
    "2. adding an element to array\n",
    "a. append\n",
    "b.extend \n",
    "c.insert"
   ],
   "cell_type": "markdown",
   "metadata": {}
  },
  {
   "cell_type": "code",
   "execution_count": 22,
   "metadata": {},
   "outputs": [
    {
     "output_type": "execute_result",
     "data": {
      "text/plain": [
       "array('i', [10, 20, 30, 40])"
      ]
     },
     "metadata": {},
     "execution_count": 22
    }
   ],
   "source": [
    "arr1"
   ]
  },
  {
   "cell_type": "code",
   "execution_count": 23,
   "metadata": {},
   "outputs": [],
   "source": [
    "arr1.append(50)  # to add single element at last"
   ]
  },
  {
   "cell_type": "code",
   "execution_count": 24,
   "metadata": {},
   "outputs": [
    {
     "output_type": "execute_result",
     "data": {
      "text/plain": [
       "array('i', [10, 20, 30, 40, 50])"
      ]
     },
     "metadata": {},
     "execution_count": 24
    }
   ],
   "source": [
    "arr1"
   ]
  },
  {
   "cell_type": "code",
   "execution_count": 25,
   "metadata": {},
   "outputs": [],
   "source": [
    "arr1.insert(0,-23)    # to add single element at specified postion"
   ]
  },
  {
   "cell_type": "code",
   "execution_count": 26,
   "metadata": {},
   "outputs": [
    {
     "output_type": "execute_result",
     "data": {
      "text/plain": [
       "array('i', [-23, 10, 20, 30, 40, 50])"
      ]
     },
     "metadata": {},
     "execution_count": 26
    }
   ],
   "source": [
    "arr1"
   ]
  },
  {
   "cell_type": "code",
   "execution_count": 27,
   "metadata": {},
   "outputs": [],
   "source": [
    "arr1.extend([1,2,3])    # adding more than one element at the last"
   ]
  },
  {
   "cell_type": "code",
   "execution_count": 28,
   "metadata": {},
   "outputs": [
    {
     "output_type": "execute_result",
     "data": {
      "text/plain": [
       "array('i', [-23, 10, 20, 30, 40, 50, 1, 2, 3])"
      ]
     },
     "metadata": {},
     "execution_count": 28
    }
   ],
   "source": [
    "arr1"
   ]
  },
  {
   "source": [
    "### Removing element from array"
   ],
   "cell_type": "markdown",
   "metadata": {}
  },
  {
   "source": [
    "1. pop()  removes and returns the element\n",
    "2. remove() simply deletes specified no returning of element(deletes the first occurance of element)"
   ],
   "cell_type": "markdown",
   "metadata": {}
  },
  {
   "source": [
    "pop() takes index to be removed it not specified will remove the last element\n"
   ],
   "cell_type": "markdown",
   "metadata": {}
  },
  {
   "cell_type": "code",
   "execution_count": 29,
   "metadata": {},
   "outputs": [
    {
     "output_type": "execute_result",
     "data": {
      "text/plain": [
       "array('i', [-23, 10, 20, 30, 40, 50, 1, 2, 3])"
      ]
     },
     "metadata": {},
     "execution_count": 29
    }
   ],
   "source": [
    "arr1"
   ]
  },
  {
   "cell_type": "code",
   "execution_count": 30,
   "metadata": {},
   "outputs": [
    {
     "output_type": "execute_result",
     "data": {
      "text/plain": [
       "3"
      ]
     },
     "metadata": {},
     "execution_count": 30
    }
   ],
   "source": [
    "arr1.pop()"
   ]
  },
  {
   "cell_type": "code",
   "execution_count": 31,
   "metadata": {},
   "outputs": [
    {
     "output_type": "execute_result",
     "data": {
      "text/plain": [
       "-23"
      ]
     },
     "metadata": {},
     "execution_count": 31
    }
   ],
   "source": [
    "arr1.pop(0)"
   ]
  },
  {
   "cell_type": "code",
   "execution_count": 32,
   "metadata": {},
   "outputs": [
    {
     "output_type": "execute_result",
     "data": {
      "text/plain": [
       "array('i', [10, 20, 30, 40, 50, 1, 2])"
      ]
     },
     "metadata": {},
     "execution_count": 32
    }
   ],
   "source": [
    "arr1"
   ]
  },
  {
   "source": [
    "2. remove will remove the specified number its first occunace firs"
   ],
   "cell_type": "markdown",
   "metadata": {}
  },
  {
   "cell_type": "code",
   "execution_count": 33,
   "metadata": {},
   "outputs": [],
   "source": [
    "arr1.append(10)"
   ]
  },
  {
   "cell_type": "code",
   "execution_count": 34,
   "metadata": {},
   "outputs": [
    {
     "output_type": "execute_result",
     "data": {
      "text/plain": [
       "array('i', [10, 20, 30, 40, 50, 1, 2, 10])"
      ]
     },
     "metadata": {},
     "execution_count": 34
    }
   ],
   "source": [
    "arr1"
   ]
  },
  {
   "cell_type": "code",
   "execution_count": 35,
   "metadata": {},
   "outputs": [],
   "source": [
    "arr1.remove(10)"
   ]
  },
  {
   "cell_type": "code",
   "execution_count": 36,
   "metadata": {},
   "outputs": [
    {
     "output_type": "execute_result",
     "data": {
      "text/plain": [
       "array('i', [20, 30, 40, 50, 1, 2, 10])"
      ]
     },
     "metadata": {},
     "execution_count": 36
    }
   ],
   "source": [
    "arr1   #see the first occurance of 10 is being removed"
   ]
  },
  {
   "source": [
    "### array concatenation "
   ],
   "cell_type": "markdown",
   "metadata": {}
  },
  {
   "source": [
    "concatentaion is done using the + symbol for joining two array"
   ],
   "cell_type": "markdown",
   "metadata": {}
  },
  {
   "cell_type": "code",
   "execution_count": 37,
   "metadata": {},
   "outputs": [],
   "source": [
    "a = arr.array('i',[100,101,102,103])\n",
    "b = arr.array('i',[200,201,202,203])\n",
    "c = arr.array('i')"
   ]
  },
  {
   "cell_type": "code",
   "execution_count": 38,
   "metadata": {},
   "outputs": [],
   "source": [
    "c = a +b    # type of all the three should be same"
   ]
  },
  {
   "cell_type": "code",
   "execution_count": 39,
   "metadata": {},
   "outputs": [
    {
     "output_type": "execute_result",
     "data": {
      "text/plain": [
       "array('i', [100, 101, 102, 103, 200, 201, 202, 203])"
      ]
     },
     "metadata": {},
     "execution_count": 39
    }
   ],
   "source": [
    "c"
   ]
  },
  {
   "source": [
    "### Slicing an array"
   ],
   "cell_type": "markdown",
   "metadata": {}
  },
  {
   "source": [
    "slicing means fetching values from the arry\n",
    "done using the : symbole"
   ],
   "cell_type": "markdown",
   "metadata": {}
  },
  {
   "cell_type": "code",
   "execution_count": 40,
   "metadata": {},
   "outputs": [
    {
     "output_type": "stream",
     "name": "stdout",
     "text": [
      "array('i', [101, 102, 103, 200])\n"
     ]
    }
   ],
   "source": [
    "print(c[1:5]) # from the 1 to the (5-1)"
   ]
  },
  {
   "cell_type": "code",
   "execution_count": 41,
   "metadata": {},
   "outputs": [
    {
     "output_type": "stream",
     "name": "stdout",
     "text": [
      "array('i', [100, 101, 102, 103])\n"
     ]
    }
   ],
   "source": [
    "print(c[:4])    #from the 0 to the 4-1"
   ]
  },
  {
   "cell_type": "code",
   "execution_count": 42,
   "metadata": {},
   "outputs": [
    {
     "output_type": "execute_result",
     "data": {
      "text/plain": [
       "array('i', [100, 101, 102, 103, 200, 201, 202, 203])"
      ]
     },
     "metadata": {},
     "execution_count": 42
    }
   ],
   "source": [
    "c"
   ]
  },
  {
   "cell_type": "code",
   "execution_count": 43,
   "metadata": {},
   "outputs": [
    {
     "output_type": "stream",
     "name": "stdout",
     "text": [
      "array('i', [100, 101, 102, 103, 200, 201])\n"
     ]
    }
   ],
   "source": [
    "print(c[0:-2])    #see till 201 only"
   ]
  },
  {
   "cell_type": "code",
   "execution_count": 44,
   "metadata": {},
   "outputs": [
    {
     "output_type": "stream",
     "name": "stdout",
     "text": [
      "array('i', [203, 202, 201, 200, 103, 102, 101, 100])\n"
     ]
    }
   ],
   "source": [
    "print(c[::-1])      #print the array in reverse order\n",
    "                    #not preffred bcz it exhaust the memory"
   ]
  },
  {
   "source": [
    "### Looping through an array"
   ],
   "cell_type": "markdown",
   "metadata": {}
  },
  {
   "source": [
    "using for loop\n",
    "and while loop"
   ],
   "cell_type": "markdown",
   "metadata": {}
  },
  {
   "source": [
    "for is used when we want to iterate for a specified number of time\n",
    "while is used when iteration is needed till some condition is met"
   ],
   "cell_type": "markdown",
   "metadata": {}
  },
  {
   "cell_type": "code",
   "execution_count": 45,
   "metadata": {},
   "outputs": [
    {
     "output_type": "stream",
     "name": "stdout",
     "text": [
      "100\n101\n102\n103\n200\n201\n202\n203\n"
     ]
    }
   ],
   "source": [
    "for x in c:\n",
    "    print(x)"
   ]
  },
  {
   "cell_type": "code",
   "execution_count": 46,
   "metadata": {},
   "outputs": [
    {
     "output_type": "stream",
     "name": "stdout",
     "text": [
      "100\n101\n102\n103\n200\n201\n"
     ]
    }
   ],
   "source": [
    "for x in c[0:-2]:\n",
    "    print(x)"
   ]
  },
  {
   "cell_type": "code",
   "execution_count": 47,
   "metadata": {},
   "outputs": [
    {
     "output_type": "stream",
     "name": "stdout",
     "text": [
      "100\n101\n102\n103\n200\n201\n202\n203\n"
     ]
    }
   ],
   "source": [
    "i =0\n",
    "while i<len(c):\n",
    "    print(c[i])\n",
    "    i=i+1"
   ]
  }
 ],
 "metadata": {
  "kernelspec": {
   "name": "python394jvsc74a57bd0ea51e475891ca790c54a725496b7fac20a92b46aeab64ead1c1373b2d821abcb",
   "display_name": "Python 3.9.4 64-bit"
  },
  "language_info": {
   "codemirror_mode": {
    "name": "ipython",
    "version": 3
   },
   "file_extension": ".py",
   "mimetype": "text/x-python",
   "name": "python",
   "nbconvert_exporter": "python",
   "pygments_lexer": "ipython3",
   "version": "3.9.4"
  },
  "metadata": {
   "interpreter": {
    "hash": "ea51e475891ca790c54a725496b7fac20a92b46aeab64ead1c1373b2d821abcb"
   }
  }
 },
 "nbformat": 4,
 "nbformat_minor": 4
}